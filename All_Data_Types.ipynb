{
  "nbformat": 4,
  "nbformat_minor": 0,
  "metadata": {
    "colab": {
      "name": "All-Data-Types.ipynb",
      "provenance": [],
      "collapsed_sections": []
    },
    "kernelspec": {
      "name": "python3",
      "display_name": "Python 3"
    },
    "language_info": {
      "name": "python"
    }
  },
  "cells": [
    {
      "cell_type": "markdown",
      "metadata": {
        "id": "WK1eFBTOYnU0"
      },
      "source": [
        "Numeric Data Type"
      ]
    },
    {
      "cell_type": "code",
      "metadata": {
        "id": "vdppSXXYYQT7"
      },
      "source": [
        "# int, float, complex, Bool"
      ],
      "execution_count": null,
      "outputs": []
    },
    {
      "cell_type": "code",
      "metadata": {
        "id": "wmJUgKUzYQ6O"
      },
      "source": [
        "a = 6"
      ],
      "execution_count": null,
      "outputs": []
    },
    {
      "cell_type": "code",
      "metadata": {
        "colab": {
          "base_uri": "https://localhost:8080/"
        },
        "id": "pbWcIMc9ZHyy",
        "outputId": "9d661449-f987-41ea-8094-5699347c7398"
      },
      "source": [
        "type(a)"
      ],
      "execution_count": null,
      "outputs": [
        {
          "output_type": "execute_result",
          "data": {
            "text/plain": [
              "int"
            ]
          },
          "metadata": {},
          "execution_count": 4
        }
      ]
    },
    {
      "cell_type": "code",
      "metadata": {
        "id": "kmnWLbeAZzOk"
      },
      "source": [
        "b = 5.7"
      ],
      "execution_count": null,
      "outputs": []
    },
    {
      "cell_type": "code",
      "metadata": {
        "colab": {
          "base_uri": "https://localhost:8080/"
        },
        "id": "QyzmD56PZ2nA",
        "outputId": "5d4fef93-6471-4ed1-b635-60e1ffa60abe"
      },
      "source": [
        "type(b)"
      ],
      "execution_count": null,
      "outputs": [
        {
          "output_type": "execute_result",
          "data": {
            "text/plain": [
              "float"
            ]
          },
          "metadata": {},
          "execution_count": 8
        }
      ]
    },
    {
      "cell_type": "code",
      "metadata": {
        "colab": {
          "base_uri": "https://localhost:8080/"
        },
        "id": "TB2ZLVuhZ3sd",
        "outputId": "da9f065d-f66b-4977-ba36-a89af0817561"
      },
      "source": [
        "float(a)"
      ],
      "execution_count": null,
      "outputs": [
        {
          "output_type": "execute_result",
          "data": {
            "text/plain": [
              "6.0"
            ]
          },
          "metadata": {},
          "execution_count": 11
        }
      ]
    },
    {
      "cell_type": "code",
      "metadata": {
        "colab": {
          "base_uri": "https://localhost:8080/"
        },
        "id": "9_7z750yaCqj",
        "outputId": "30e026a1-d632-4771-b9eb-d70f6ec2c0bb"
      },
      "source": [
        "int(b)"
      ],
      "execution_count": null,
      "outputs": [
        {
          "output_type": "execute_result",
          "data": {
            "text/plain": [
              "5"
            ]
          },
          "metadata": {},
          "execution_count": 12
        }
      ]
    },
    {
      "cell_type": "code",
      "metadata": {
        "id": "bLKUQeyyaMyf"
      },
      "source": [
        "c = 0"
      ],
      "execution_count": null,
      "outputs": []
    },
    {
      "cell_type": "code",
      "metadata": {
        "colab": {
          "base_uri": "https://localhost:8080/"
        },
        "id": "i9uO2e3Baiy5",
        "outputId": "5b9afe91-1cba-49d1-c926-cf727c6ad63b"
      },
      "source": [
        "type(c)"
      ],
      "execution_count": null,
      "outputs": [
        {
          "output_type": "execute_result",
          "data": {
            "text/plain": [
              "int"
            ]
          },
          "metadata": {},
          "execution_count": 15
        }
      ]
    },
    {
      "cell_type": "code",
      "metadata": {
        "id": "bJCna8ytamVt"
      },
      "source": [
        "c = 0.0"
      ],
      "execution_count": null,
      "outputs": []
    },
    {
      "cell_type": "code",
      "metadata": {
        "colab": {
          "base_uri": "https://localhost:8080/"
        },
        "id": "yK3r0xgZap0_",
        "outputId": "2e768287-6c8e-4394-d1b1-99601f479ec0"
      },
      "source": [
        "float(c)"
      ],
      "execution_count": null,
      "outputs": [
        {
          "output_type": "execute_result",
          "data": {
            "text/plain": [
              "0.0"
            ]
          },
          "metadata": {},
          "execution_count": 18
        }
      ]
    },
    {
      "cell_type": "code",
      "metadata": {
        "colab": {
          "base_uri": "https://localhost:8080/"
        },
        "id": "EGGpspX9aqcC",
        "outputId": "3ffcc4d1-8eef-499f-96fb-cf17a577b4be"
      },
      "source": [
        "5**(0.5)"
      ],
      "execution_count": null,
      "outputs": [
        {
          "output_type": "execute_result",
          "data": {
            "text/plain": [
              "2.23606797749979"
            ]
          },
          "metadata": {},
          "execution_count": 19
        }
      ]
    },
    {
      "cell_type": "code",
      "metadata": {
        "colab": {
          "base_uri": "https://localhost:8080/"
        },
        "id": "xtcsx4CYbD37",
        "outputId": "39eee72c-bd66-41d8-9029-fb1a247459e3"
      },
      "source": [
        "import math\n",
        "math.sqrt(5)"
      ],
      "execution_count": null,
      "outputs": [
        {
          "output_type": "execute_result",
          "data": {
            "text/plain": [
              "2.23606797749979"
            ]
          },
          "metadata": {},
          "execution_count": 22
        }
      ]
    },
    {
      "cell_type": "code",
      "metadata": {
        "id": "MDdGhyEZbJ3O"
      },
      "source": [
        "d = 2.24j"
      ],
      "execution_count": null,
      "outputs": []
    },
    {
      "cell_type": "code",
      "metadata": {
        "colab": {
          "base_uri": "https://localhost:8080/"
        },
        "id": "PuupzSHQbvcC",
        "outputId": "d83abf84-61b2-41ce-b43b-b9aa8ec72fda"
      },
      "source": [
        "type(d)"
      ],
      "execution_count": null,
      "outputs": [
        {
          "output_type": "execute_result",
          "data": {
            "text/plain": [
              "complex"
            ]
          },
          "metadata": {},
          "execution_count": 26
        }
      ]
    },
    {
      "cell_type": "code",
      "metadata": {
        "id": "wY9OWSp5b5Mv"
      },
      "source": [
        "e = True"
      ],
      "execution_count": null,
      "outputs": []
    },
    {
      "cell_type": "code",
      "metadata": {
        "colab": {
          "base_uri": "https://localhost:8080/"
        },
        "id": "gTtXeDc9cHox",
        "outputId": "926d1bfe-325a-40de-fb18-9d80a775456e"
      },
      "source": [
        "type(e)"
      ],
      "execution_count": null,
      "outputs": [
        {
          "output_type": "execute_result",
          "data": {
            "text/plain": [
              "bool"
            ]
          },
          "metadata": {},
          "execution_count": 28
        }
      ]
    },
    {
      "cell_type": "code",
      "metadata": {
        "id": "VnuIoP4WcIlw"
      },
      "source": [
        "f = 7>5"
      ],
      "execution_count": null,
      "outputs": []
    },
    {
      "cell_type": "code",
      "metadata": {
        "colab": {
          "base_uri": "https://localhost:8080/"
        },
        "id": "_jezAFAtcQWv",
        "outputId": "bbb399ac-6152-41fb-ae71-826b96b8c7d6"
      },
      "source": [
        "type(f)"
      ],
      "execution_count": null,
      "outputs": [
        {
          "output_type": "execute_result",
          "data": {
            "text/plain": [
              "bool"
            ]
          },
          "metadata": {},
          "execution_count": 30
        }
      ]
    },
    {
      "cell_type": "code",
      "metadata": {
        "id": "yr5bxAyFcRXG"
      },
      "source": [
        ""
      ],
      "execution_count": null,
      "outputs": []
    },
    {
      "cell_type": "markdown",
      "metadata": {
        "id": "d6De2sK9ww7k"
      },
      "source": [
        "## **String Data Type**"
      ]
    },
    {
      "cell_type": "code",
      "metadata": {
        "id": "FBgtQz_Mw09n"
      },
      "source": [
        "s1 = \"india\"\n",
        "s2 = \"Hello\""
      ],
      "execution_count": null,
      "outputs": []
    },
    {
      "cell_type": "code",
      "metadata": {
        "colab": {
          "base_uri": "https://localhost:8080/",
          "height": 35
        },
        "id": "fNe8O9fxw87O",
        "outputId": "b4378ff1-ae82-415c-cbd9-c54741fca441"
      },
      "source": [
        "s2+s1"
      ],
      "execution_count": null,
      "outputs": [
        {
          "output_type": "execute_result",
          "data": {
            "application/vnd.google.colaboratory.intrinsic+json": {
              "type": "string"
            },
            "text/plain": [
              "'Helloindia'"
            ]
          },
          "metadata": {},
          "execution_count": 4
        }
      ]
    },
    {
      "cell_type": "code",
      "metadata": {
        "colab": {
          "base_uri": "https://localhost:8080/",
          "height": 35
        },
        "id": "S5MVi_FbxZB4",
        "outputId": "236e8ad2-7618-4b3d-b9a5-9e40a1695934"
      },
      "source": [
        "s2*4"
      ],
      "execution_count": null,
      "outputs": [
        {
          "output_type": "execute_result",
          "data": {
            "application/vnd.google.colaboratory.intrinsic+json": {
              "type": "string"
            },
            "text/plain": [
              "'HelloHelloHelloHello'"
            ]
          },
          "metadata": {},
          "execution_count": 5
        }
      ]
    },
    {
      "cell_type": "code",
      "metadata": {
        "colab": {
          "base_uri": "https://localhost:8080/",
          "height": 35
        },
        "id": "xHdcSOxnxxd8",
        "outputId": "f8858adb-e794-40ea-c91b-8eb71c5a8621"
      },
      "source": [
        "s1[4]"
      ],
      "execution_count": null,
      "outputs": [
        {
          "output_type": "execute_result",
          "data": {
            "application/vnd.google.colaboratory.intrinsic+json": {
              "type": "string"
            },
            "text/plain": [
              "'a'"
            ]
          },
          "metadata": {},
          "execution_count": 6
        }
      ]
    },
    {
      "cell_type": "code",
      "metadata": {
        "colab": {
          "base_uri": "https://localhost:8080/",
          "height": 35
        },
        "id": "7ZsD8YKgx4uK",
        "outputId": "e3525cb0-9baf-49e2-9f47-ed33e3cabc60"
      },
      "source": [
        "s1[-1]"
      ],
      "execution_count": null,
      "outputs": [
        {
          "output_type": "execute_result",
          "data": {
            "application/vnd.google.colaboratory.intrinsic+json": {
              "type": "string"
            },
            "text/plain": [
              "'a'"
            ]
          },
          "metadata": {},
          "execution_count": 7
        }
      ]
    },
    {
      "cell_type": "code",
      "metadata": {
        "colab": {
          "base_uri": "https://localhost:8080/",
          "height": 35
        },
        "id": "p2vUd6Nxx6eA",
        "outputId": "accebcdb-8434-40e3-941e-4d4783bceaf9"
      },
      "source": [
        "s1"
      ],
      "execution_count": null,
      "outputs": [
        {
          "output_type": "execute_result",
          "data": {
            "application/vnd.google.colaboratory.intrinsic+json": {
              "type": "string"
            },
            "text/plain": [
              "'india'"
            ]
          },
          "metadata": {},
          "execution_count": 8
        }
      ]
    },
    {
      "cell_type": "code",
      "metadata": {
        "colab": {
          "base_uri": "https://localhost:8080/",
          "height": 35
        },
        "id": "xIZqs1fKx-L9",
        "outputId": "d69bbeaa-c248-4a2e-815b-53712a85d2b8"
      },
      "source": [
        "s1[-5:-2]"
      ],
      "execution_count": null,
      "outputs": [
        {
          "output_type": "execute_result",
          "data": {
            "application/vnd.google.colaboratory.intrinsic+json": {
              "type": "string"
            },
            "text/plain": [
              "'ind'"
            ]
          },
          "metadata": {},
          "execution_count": 9
        }
      ]
    },
    {
      "cell_type": "code",
      "metadata": {
        "colab": {
          "base_uri": "https://localhost:8080/",
          "height": 35
        },
        "id": "ivOdvNW_yKGT",
        "outputId": "d5f6966c-f542-46e3-f186-28fc71156701"
      },
      "source": [
        "s1.upper()"
      ],
      "execution_count": null,
      "outputs": [
        {
          "output_type": "execute_result",
          "data": {
            "application/vnd.google.colaboratory.intrinsic+json": {
              "type": "string"
            },
            "text/plain": [
              "'INDIA'"
            ]
          },
          "metadata": {},
          "execution_count": 10
        }
      ]
    },
    {
      "cell_type": "code",
      "metadata": {
        "colab": {
          "base_uri": "https://localhost:8080/",
          "height": 35
        },
        "id": "-UNROep2yPRn",
        "outputId": "bbf8ca65-3015-4630-99ea-f2fdc69b0fbc"
      },
      "source": [
        "s2"
      ],
      "execution_count": null,
      "outputs": [
        {
          "output_type": "execute_result",
          "data": {
            "application/vnd.google.colaboratory.intrinsic+json": {
              "type": "string"
            },
            "text/plain": [
              "'Hello'"
            ]
          },
          "metadata": {},
          "execution_count": 11
        }
      ]
    },
    {
      "cell_type": "code",
      "metadata": {
        "colab": {
          "base_uri": "https://localhost:8080/",
          "height": 35
        },
        "id": "eVxULz_GyRqd",
        "outputId": "0d6d5457-27b0-495e-d2ce-f34fec7c57e5"
      },
      "source": [
        "s2.lower()"
      ],
      "execution_count": null,
      "outputs": [
        {
          "output_type": "execute_result",
          "data": {
            "application/vnd.google.colaboratory.intrinsic+json": {
              "type": "string"
            },
            "text/plain": [
              "'hello'"
            ]
          },
          "metadata": {},
          "execution_count": 12
        }
      ]
    },
    {
      "cell_type": "code",
      "metadata": {
        "colab": {
          "base_uri": "https://localhost:8080/",
          "height": 35
        },
        "id": "PFG4CrLTyU1a",
        "outputId": "33fe011d-5e02-47fd-f4ae-8440f3c7a139"
      },
      "source": [
        "s1"
      ],
      "execution_count": null,
      "outputs": [
        {
          "output_type": "execute_result",
          "data": {
            "application/vnd.google.colaboratory.intrinsic+json": {
              "type": "string"
            },
            "text/plain": [
              "'india'"
            ]
          },
          "metadata": {},
          "execution_count": 13
        }
      ]
    },
    {
      "cell_type": "code",
      "metadata": {
        "colab": {
          "base_uri": "https://localhost:8080/",
          "height": 35
        },
        "id": "H7IC21R3yW8A",
        "outputId": "a2473cdb-fa34-4211-abfa-430ed3c24353"
      },
      "source": [
        "s1.capitalize()"
      ],
      "execution_count": null,
      "outputs": [
        {
          "output_type": "execute_result",
          "data": {
            "application/vnd.google.colaboratory.intrinsic+json": {
              "type": "string"
            },
            "text/plain": [
              "'India'"
            ]
          },
          "metadata": {},
          "execution_count": 14
        }
      ]
    },
    {
      "cell_type": "code",
      "metadata": {
        "colab": {
          "base_uri": "https://localhost:8080/"
        },
        "id": "s6ad2V4vyZiu",
        "outputId": "e683a6d1-6e65-4e95-fc58-31eea8706183"
      },
      "source": [
        "s1.isupper()"
      ],
      "execution_count": null,
      "outputs": [
        {
          "output_type": "execute_result",
          "data": {
            "text/plain": [
              "False"
            ]
          },
          "metadata": {},
          "execution_count": 15
        }
      ]
    },
    {
      "cell_type": "code",
      "metadata": {
        "colab": {
          "base_uri": "https://localhost:8080/"
        },
        "id": "bX8nPQueygRu",
        "outputId": "246b2174-4692-4e5f-8daa-5742fcb26d09"
      },
      "source": [
        "s1.islower()"
      ],
      "execution_count": null,
      "outputs": [
        {
          "output_type": "execute_result",
          "data": {
            "text/plain": [
              "True"
            ]
          },
          "metadata": {},
          "execution_count": 16
        }
      ]
    },
    {
      "cell_type": "code",
      "metadata": {
        "id": "EVDNfweJyj3i"
      },
      "source": [
        "s3 = \"We are learning python prograrmming language\""
      ],
      "execution_count": null,
      "outputs": []
    },
    {
      "cell_type": "code",
      "metadata": {
        "colab": {
          "base_uri": "https://localhost:8080/"
        },
        "id": "lJpsnzQcyqCP",
        "outputId": "eedcdede-63e4-459a-d1b0-cbe6d6cbfe31"
      },
      "source": [
        "s3.count(\"a\")"
      ],
      "execution_count": null,
      "outputs": [
        {
          "output_type": "execute_result",
          "data": {
            "text/plain": [
              "5"
            ]
          },
          "metadata": {},
          "execution_count": 18
        }
      ]
    },
    {
      "cell_type": "code",
      "metadata": {
        "colab": {
          "base_uri": "https://localhost:8080/"
        },
        "id": "UwUrDcIayyMa",
        "outputId": "f514c7d5-4540-47ad-dc3e-41088ffc98d3"
      },
      "source": [
        "s3.index(\"g\")"
      ],
      "execution_count": null,
      "outputs": [
        {
          "output_type": "execute_result",
          "data": {
            "text/plain": [
              "14"
            ]
          },
          "metadata": {},
          "execution_count": 19
        }
      ]
    },
    {
      "cell_type": "code",
      "metadata": {
        "id": "MI3ZXOUNy-PL"
      },
      "source": [
        "ls = s3.split()"
      ],
      "execution_count": null,
      "outputs": []
    },
    {
      "cell_type": "code",
      "metadata": {
        "id": "7dem_kFQzeCK"
      },
      "source": [
        "ls[3] = \"Java\""
      ],
      "execution_count": null,
      "outputs": []
    },
    {
      "cell_type": "code",
      "metadata": {
        "colab": {
          "base_uri": "https://localhost:8080/"
        },
        "id": "Ol0nJnZWzoGm",
        "outputId": "13c55df8-266e-4cb1-d1e1-67e7713b1b5a"
      },
      "source": [
        "ls"
      ],
      "execution_count": null,
      "outputs": [
        {
          "output_type": "execute_result",
          "data": {
            "text/plain": [
              "['We', 'are', 'learning', 'Java', 'prograrmming', 'language']"
            ]
          },
          "metadata": {},
          "execution_count": 25
        }
      ]
    },
    {
      "cell_type": "code",
      "metadata": {
        "id": "iqRmwArRz0p7"
      },
      "source": [
        "st = \" $ \".join(ls)"
      ],
      "execution_count": null,
      "outputs": []
    },
    {
      "cell_type": "code",
      "metadata": {
        "colab": {
          "base_uri": "https://localhost:8080/",
          "height": 35
        },
        "id": "Gbnv3iT_0Hr7",
        "outputId": "067aef29-8441-4d3a-f0ff-0544caa20e85"
      },
      "source": [
        "st"
      ],
      "execution_count": null,
      "outputs": [
        {
          "output_type": "execute_result",
          "data": {
            "application/vnd.google.colaboratory.intrinsic+json": {
              "type": "string"
            },
            "text/plain": [
              "'We $ are $ learning $ Java $ prograrmming $ language'"
            ]
          },
          "metadata": {},
          "execution_count": 38
        }
      ]
    },
    {
      "cell_type": "code",
      "metadata": {
        "colab": {
          "base_uri": "https://localhost:8080/"
        },
        "id": "bVqI86Aqz-3H",
        "outputId": "b31f7a04-d8bc-4b1c-f1d4-a345e14b8374"
      },
      "source": [
        "type(st)"
      ],
      "execution_count": null,
      "outputs": [
        {
          "output_type": "execute_result",
          "data": {
            "text/plain": [
              "str"
            ]
          },
          "metadata": {},
          "execution_count": 39
        }
      ]
    },
    {
      "cell_type": "code",
      "metadata": {
        "colab": {
          "base_uri": "https://localhost:8080/",
          "height": 35
        },
        "id": "0GMk2EGq0AFE",
        "outputId": "dbd95ec3-7077-409d-9c84-f0f11f305812"
      },
      "source": [
        "s3"
      ],
      "execution_count": null,
      "outputs": [
        {
          "output_type": "execute_result",
          "data": {
            "application/vnd.google.colaboratory.intrinsic+json": {
              "type": "string"
            },
            "text/plain": [
              "'We are learning python prograrmming language'"
            ]
          },
          "metadata": {},
          "execution_count": 40
        }
      ]
    },
    {
      "cell_type": "code",
      "metadata": {
        "colab": {
          "base_uri": "https://localhost:8080/",
          "height": 35
        },
        "id": "ejpc2P_M0n_C",
        "outputId": "1ecc2b7c-c697-4549-918e-c90733eb4816"
      },
      "source": [
        "min(s3)"
      ],
      "execution_count": null,
      "outputs": [
        {
          "output_type": "execute_result",
          "data": {
            "application/vnd.google.colaboratory.intrinsic+json": {
              "type": "string"
            },
            "text/plain": [
              "' '"
            ]
          },
          "metadata": {},
          "execution_count": 42
        }
      ]
    },
    {
      "cell_type": "code",
      "metadata": {
        "colab": {
          "base_uri": "https://localhost:8080/",
          "height": 35
        },
        "id": "Xje2__hz0v5D",
        "outputId": "3256c939-28f1-4bc8-c32d-fade4897b1f8"
      },
      "source": [
        "max(s3)"
      ],
      "execution_count": null,
      "outputs": [
        {
          "output_type": "execute_result",
          "data": {
            "application/vnd.google.colaboratory.intrinsic+json": {
              "type": "string"
            },
            "text/plain": [
              "'y'"
            ]
          },
          "metadata": {},
          "execution_count": 41
        }
      ]
    },
    {
      "cell_type": "code",
      "metadata": {
        "colab": {
          "base_uri": "https://localhost:8080/"
        },
        "id": "6cmc2o-E0wJw",
        "outputId": "fa849e10-d728-409b-d584-25f98e2246c7"
      },
      "source": [
        "len(s3)"
      ],
      "execution_count": null,
      "outputs": [
        {
          "output_type": "execute_result",
          "data": {
            "text/plain": [
              "44"
            ]
          },
          "metadata": {},
          "execution_count": 43
        }
      ]
    },
    {
      "cell_type": "code",
      "metadata": {
        "id": "zzNX6-fM2Ixq"
      },
      "source": [
        ""
      ],
      "execution_count": null,
      "outputs": []
    },
    {
      "cell_type": "markdown",
      "metadata": {
        "id": "B95wBlQ52My3"
      },
      "source": [
        "### **String Formating**"
      ]
    },
    {
      "cell_type": "code",
      "metadata": {
        "colab": {
          "base_uri": "https://localhost:8080/"
        },
        "id": "Kau_riZV84b0",
        "outputId": "fa5488ec-7129-4c49-91cf-ec8e3319bd8e"
      },
      "source": [
        "print(\"Congratulations Rahul, you got 90.4 % marks in Maths exam.\")"
      ],
      "execution_count": null,
      "outputs": [
        {
          "output_type": "stream",
          "name": "stdout",
          "text": [
            "Congratulations Rahul, you got 90.4 % marks in Maths exam.\n"
          ]
        }
      ]
    },
    {
      "cell_type": "code",
      "metadata": {
        "colab": {
          "base_uri": "https://localhost:8080/"
        },
        "id": "pk6g_nYx9oZC",
        "outputId": "72583983-1ac5-427d-a487-6ff856d32a80"
      },
      "source": [
        "name = \"Priya\"\n",
        "marks = 94.4\n",
        "subject = \"History\"\n",
        "\n",
        "print(\"Congratulations %s, you got %0.2f %% marks in %s exam.\"%(name,marks,subject))"
      ],
      "execution_count": null,
      "outputs": [
        {
          "output_type": "stream",
          "name": "stdout",
          "text": [
            "Congratulations Priya, you got 94.40 % marks in History exam.\n"
          ]
        }
      ]
    },
    {
      "cell_type": "code",
      "metadata": {
        "colab": {
          "base_uri": "https://localhost:8080/"
        },
        "id": "GA5g3gad-4mv",
        "outputId": "fbcde54c-d243-43f8-cd8a-7872d3fc9d36"
      },
      "source": [
        "print(\"Congratulaations {}, you got {} % marks in {} exam.\".format(name,marks,subject))"
      ],
      "execution_count": null,
      "outputs": [
        {
          "output_type": "stream",
          "name": "stdout",
          "text": [
            "Congratulaations Priya, you got 94.4 % marks in History exam.\n"
          ]
        }
      ]
    },
    {
      "cell_type": "code",
      "metadata": {
        "colab": {
          "base_uri": "https://localhost:8080/"
        },
        "id": "ZqXrBD0K_h1X",
        "outputId": "280d2a80-21c8-45ef-d894-f9082580c4c1"
      },
      "source": [
        "print(f\"Congratulatin {name}, you got {marks} % marks in {subject} exam.\")"
      ],
      "execution_count": null,
      "outputs": [
        {
          "output_type": "stream",
          "name": "stdout",
          "text": [
            "Congratulatin Priya, you got 94.4 % marks in History exam.\n"
          ]
        }
      ]
    },
    {
      "cell_type": "markdown",
      "metadata": {
        "id": "H2C9wuFK-kgi"
      },
      "source": [
        "%s = String\n",
        "\n",
        "%i = integer\n",
        "\n",
        "%f = float\n",
        "\n",
        "%c = character\n",
        "\n"
      ]
    },
    {
      "cell_type": "markdown",
      "metadata": {
        "id": "nF5UPbj32TfD"
      },
      "source": [
        "**#Raw String & Escape Sequence**\n",
        "\n",
        "\\n = next line\n",
        "\n",
        "\\t = tab\n",
        "\n",
        "\\b = backspace\n",
        "\n",
        "\\r = reserverd\n",
        "\n",
        "\\a = alert"
      ]
    },
    {
      "cell_type": "code",
      "metadata": {
        "colab": {
          "base_uri": "https://localhost:8080/"
        },
        "id": "-OE2QwCj2SR5",
        "outputId": "752583ef-a176-44a7-814b-10a8b6304a6a"
      },
      "source": [
        "print(\"Hi everyone, \\twe have to learn python programming. \\nPython is hight \\alevel language. \")"
      ],
      "execution_count": null,
      "outputs": [
        {
          "output_type": "stream",
          "name": "stdout",
          "text": [
            "Hi everyone, \twe have to learn python programming. \n",
            "Python is hight \u0007level language. \n"
          ]
        }
      ]
    },
    {
      "cell_type": "markdown",
      "metadata": {
        "id": "806To3kOseri"
      },
      "source": [
        "# Tuple Data Type"
      ]
    },
    {
      "cell_type": "code",
      "metadata": {
        "id": "bndquXCCsd6B"
      },
      "source": [
        "t1 = (4,6,7,8,9,9.0,\"hi\")\n",
        "t2 = (4,5,6,7,8,8.9,9)"
      ],
      "execution_count": null,
      "outputs": []
    },
    {
      "cell_type": "code",
      "metadata": {
        "id": "NJy6KZKOAOnw",
        "colab": {
          "base_uri": "https://localhost:8080/"
        },
        "outputId": "fc9170ae-dc23-4d1a-9680-0aaee90f4dd0"
      },
      "source": [
        "t1+t2"
      ],
      "execution_count": null,
      "outputs": [
        {
          "output_type": "execute_result",
          "data": {
            "text/plain": [
              "(4, 6, 7, 8, 9, 9.0, 'hi', 4, 5, 6, 7, 8, 8.9, 9)"
            ]
          },
          "metadata": {},
          "execution_count": 2
        }
      ]
    },
    {
      "cell_type": "code",
      "metadata": {
        "colab": {
          "base_uri": "https://localhost:8080/"
        },
        "id": "-VnbIeJrvpBV",
        "outputId": "5dd0e3c0-62d5-484c-904b-5c486fa21358"
      },
      "source": [
        "t1*3"
      ],
      "execution_count": null,
      "outputs": [
        {
          "output_type": "execute_result",
          "data": {
            "text/plain": [
              "(4, 6, 7, 8, 9, 9.0, 'hi', 4, 6, 7, 8, 9, 9.0, 'hi', 4, 6, 7, 8, 9, 9.0, 'hi')"
            ]
          },
          "metadata": {},
          "execution_count": 3
        }
      ]
    },
    {
      "cell_type": "code",
      "metadata": {
        "colab": {
          "base_uri": "https://localhost:8080/"
        },
        "id": "a83W0zjzvrEb",
        "outputId": "10a833e3-2278-497b-a988-65c564fe7fe4"
      },
      "source": [
        "t2[-2]"
      ],
      "execution_count": null,
      "outputs": [
        {
          "output_type": "execute_result",
          "data": {
            "text/plain": [
              "8.9"
            ]
          },
          "metadata": {},
          "execution_count": 7
        }
      ]
    },
    {
      "cell_type": "code",
      "metadata": {
        "colab": {
          "base_uri": "https://localhost:8080/"
        },
        "id": "eJvt1Kwpvzku",
        "outputId": "c18aa123-d024-4b90-9cfc-9e575f7ab20a"
      },
      "source": [
        "t2[5]"
      ],
      "execution_count": null,
      "outputs": [
        {
          "output_type": "execute_result",
          "data": {
            "text/plain": [
              "8.9"
            ]
          },
          "metadata": {},
          "execution_count": 8
        }
      ]
    },
    {
      "cell_type": "code",
      "metadata": {
        "colab": {
          "base_uri": "https://localhost:8080/"
        },
        "id": "tlh_ohNsv9x9",
        "outputId": "7f9a493f-e697-472f-8bd3-fbbf55fca3ed"
      },
      "source": [
        "t1.index(\"hi\")"
      ],
      "execution_count": null,
      "outputs": [
        {
          "output_type": "execute_result",
          "data": {
            "text/plain": [
              "6"
            ]
          },
          "metadata": {},
          "execution_count": 9
        }
      ]
    },
    {
      "cell_type": "code",
      "metadata": {
        "colab": {
          "base_uri": "https://localhost:8080/"
        },
        "id": "hmi1fDrFwGdd",
        "outputId": "133f5a44-123c-4825-cb72-a141fe8ea67f"
      },
      "source": [
        "t2.count(4)"
      ],
      "execution_count": null,
      "outputs": [
        {
          "output_type": "execute_result",
          "data": {
            "text/plain": [
              "1"
            ]
          },
          "metadata": {},
          "execution_count": 10
        }
      ]
    },
    {
      "cell_type": "code",
      "metadata": {
        "colab": {
          "base_uri": "https://localhost:8080/"
        },
        "id": "pooIUpxswNsn",
        "outputId": "f41c04ba-70d6-452a-fd63-6c556d928687"
      },
      "source": [
        "min(t2)"
      ],
      "execution_count": null,
      "outputs": [
        {
          "output_type": "execute_result",
          "data": {
            "text/plain": [
              "4"
            ]
          },
          "metadata": {},
          "execution_count": 11
        }
      ]
    },
    {
      "cell_type": "code",
      "metadata": {
        "colab": {
          "base_uri": "https://localhost:8080/"
        },
        "id": "vGrb_FwlwWzx",
        "outputId": "cf5bbbed-567a-44e9-a041-b0df88baa82d"
      },
      "source": [
        "t1"
      ],
      "execution_count": null,
      "outputs": [
        {
          "output_type": "execute_result",
          "data": {
            "text/plain": [
              "(4, 6, 7, 8, 9, 9.0, 'hi')"
            ]
          },
          "metadata": {},
          "execution_count": 12
        }
      ]
    },
    {
      "cell_type": "code",
      "metadata": {
        "colab": {
          "base_uri": "https://localhost:8080/",
          "height": 163
        },
        "id": "joAgoKAXwROl",
        "outputId": "eb5d0ed8-d1c0-4cd1-a116-b8927dd2741f"
      },
      "source": [
        "max(t1)"
      ],
      "execution_count": null,
      "outputs": [
        {
          "output_type": "error",
          "ename": "TypeError",
          "evalue": "ignored",
          "traceback": [
            "\u001b[0;31m---------------------------------------------------------------------------\u001b[0m",
            "\u001b[0;31mTypeError\u001b[0m                                 Traceback (most recent call last)",
            "\u001b[0;32m<ipython-input-13-07c1bf72392e>\u001b[0m in \u001b[0;36m<module>\u001b[0;34m()\u001b[0m\n\u001b[0;32m----> 1\u001b[0;31m \u001b[0mmax\u001b[0m\u001b[0;34m(\u001b[0m\u001b[0mt1\u001b[0m\u001b[0;34m)\u001b[0m\u001b[0;34m\u001b[0m\u001b[0;34m\u001b[0m\u001b[0m\n\u001b[0m",
            "\u001b[0;31mTypeError\u001b[0m: '>' not supported between instances of 'str' and 'int'"
          ]
        }
      ]
    },
    {
      "cell_type": "code",
      "metadata": {
        "colab": {
          "base_uri": "https://localhost:8080/"
        },
        "id": "Cew3BCJQwdKE",
        "outputId": "339edbdf-cd28-4c6b-bc80-a5d530271435"
      },
      "source": [
        "len(t1)"
      ],
      "execution_count": null,
      "outputs": [
        {
          "output_type": "execute_result",
          "data": {
            "text/plain": [
              "7"
            ]
          },
          "metadata": {},
          "execution_count": 14
        }
      ]
    },
    {
      "cell_type": "code",
      "metadata": {
        "id": "y0q_4sw8wgnQ"
      },
      "source": [
        "st = \"India\""
      ],
      "execution_count": null,
      "outputs": []
    },
    {
      "cell_type": "code",
      "metadata": {
        "colab": {
          "base_uri": "https://localhost:8080/"
        },
        "id": "8RzF5qWZwlvT",
        "outputId": "17fbdfd7-3ce1-4378-c0fb-1fcfe2681a73"
      },
      "source": [
        "tuple(st)"
      ],
      "execution_count": null,
      "outputs": [
        {
          "output_type": "execute_result",
          "data": {
            "text/plain": [
              "('I', 'n', 'd', 'i', 'a')"
            ]
          },
          "metadata": {},
          "execution_count": 16
        }
      ]
    },
    {
      "cell_type": "markdown",
      "metadata": {
        "id": "06YlN2UNzq2X"
      },
      "source": [
        "# List"
      ]
    },
    {
      "cell_type": "code",
      "metadata": {
        "id": "nhyedJlv1ujB"
      },
      "source": [
        "ls1 = [4,5,6,7,8,9,90]\n",
        "ls2 = [5,7,8.9,9,'K']"
      ],
      "execution_count": null,
      "outputs": []
    },
    {
      "cell_type": "code",
      "metadata": {
        "colab": {
          "base_uri": "https://localhost:8080/"
        },
        "id": "mGDZMT_x2g0H",
        "outputId": "8491cd90-4b65-4ef9-d588-85ea1b1d440a"
      },
      "source": [
        "ls1+ls2"
      ],
      "execution_count": null,
      "outputs": [
        {
          "output_type": "execute_result",
          "data": {
            "text/plain": [
              "[4, 5, 6, 7, 8, 9, 90, 5, 7, 8.9, 9, 'K']"
            ]
          },
          "metadata": {},
          "execution_count": 23
        }
      ]
    },
    {
      "cell_type": "code",
      "metadata": {
        "colab": {
          "base_uri": "https://localhost:8080/"
        },
        "id": "LyvSgdRJ2izq",
        "outputId": "234f173c-0421-453c-8abd-7bb25df5380d"
      },
      "source": [
        "ls1*3"
      ],
      "execution_count": null,
      "outputs": [
        {
          "output_type": "execute_result",
          "data": {
            "text/plain": [
              "[4, 5, 6, 7, 8, 9, 90, 4, 5, 6, 7, 8, 9, 90, 4, 5, 6, 7, 8, 9, 90]"
            ]
          },
          "metadata": {},
          "execution_count": 24
        }
      ]
    },
    {
      "cell_type": "code",
      "metadata": {
        "colab": {
          "base_uri": "https://localhost:8080/"
        },
        "id": "F3UtRDiz2lQP",
        "outputId": "8e2fa73c-4bb4-4b40-f1ec-c7033ea0c7d7"
      },
      "source": [
        "ls1[-4]"
      ],
      "execution_count": null,
      "outputs": [
        {
          "output_type": "execute_result",
          "data": {
            "text/plain": [
              "7"
            ]
          },
          "metadata": {},
          "execution_count": 25
        }
      ]
    },
    {
      "cell_type": "code",
      "metadata": {
        "colab": {
          "base_uri": "https://localhost:8080/"
        },
        "id": "VjTOPBxD23yq",
        "outputId": "224e5392-0095-482b-e68e-8f701e47d481"
      },
      "source": [
        "ls1[-6:-2]"
      ],
      "execution_count": null,
      "outputs": [
        {
          "output_type": "execute_result",
          "data": {
            "text/plain": [
              "[5, 6, 7, 8]"
            ]
          },
          "metadata": {},
          "execution_count": 27
        }
      ]
    },
    {
      "cell_type": "code",
      "metadata": {
        "id": "oL8yG-8d3JEH"
      },
      "source": [
        "ls1.append(100)"
      ],
      "execution_count": null,
      "outputs": []
    },
    {
      "cell_type": "code",
      "metadata": {
        "colab": {
          "base_uri": "https://localhost:8080/"
        },
        "id": "uRMNShym3T7X",
        "outputId": "68114fd4-d03a-4e2f-80c1-a07b1280fb94"
      },
      "source": [
        "ls1"
      ],
      "execution_count": null,
      "outputs": [
        {
          "output_type": "execute_result",
          "data": {
            "text/plain": [
              "[4, 5, 6, 7, 8, 9, 90, 100]"
            ]
          },
          "metadata": {},
          "execution_count": 29
        }
      ]
    },
    {
      "cell_type": "code",
      "metadata": {
        "id": "COGOvJTE3VU_"
      },
      "source": [
        "ls1.insert(3,\"Hi\")"
      ],
      "execution_count": null,
      "outputs": []
    },
    {
      "cell_type": "code",
      "metadata": {
        "colab": {
          "base_uri": "https://localhost:8080/"
        },
        "id": "fsJjPHeE3f4P",
        "outputId": "9729154f-fa06-477a-d8bc-6110e2ccc532"
      },
      "source": [
        "ls1"
      ],
      "execution_count": null,
      "outputs": [
        {
          "output_type": "execute_result",
          "data": {
            "text/plain": [
              "[4, 5, 6, 'Hi', 7, 8, 9, 90, 100]"
            ]
          },
          "metadata": {},
          "execution_count": 31
        }
      ]
    },
    {
      "cell_type": "code",
      "metadata": {
        "id": "rCY-xg9Q3hGa"
      },
      "source": [
        "ls3 = [500,1000]"
      ],
      "execution_count": null,
      "outputs": []
    },
    {
      "cell_type": "code",
      "metadata": {
        "id": "JiWezOKq3onU"
      },
      "source": [
        "ls1.extend(ls3)"
      ],
      "execution_count": null,
      "outputs": []
    },
    {
      "cell_type": "code",
      "metadata": {
        "colab": {
          "base_uri": "https://localhost:8080/"
        },
        "id": "ASJvpspG3ubr",
        "outputId": "b2ca6bd5-2d01-41ec-de1f-324ba4fa20b8"
      },
      "source": [
        "ls1"
      ],
      "execution_count": null,
      "outputs": [
        {
          "output_type": "execute_result",
          "data": {
            "text/plain": [
              "[4, 5, 6, 'Hi', 7, 8, 9, 90, 100, 500, 1000]"
            ]
          },
          "metadata": {},
          "execution_count": 34
        }
      ]
    },
    {
      "cell_type": "code",
      "metadata": {
        "colab": {
          "base_uri": "https://localhost:8080/"
        },
        "id": "CAmf4wMz3vrP",
        "outputId": "c28e7139-b51a-4972-de85-11934bfaf36e"
      },
      "source": [
        "ls3"
      ],
      "execution_count": null,
      "outputs": [
        {
          "output_type": "execute_result",
          "data": {
            "text/plain": [
              "[500, 1000]"
            ]
          },
          "metadata": {},
          "execution_count": 35
        }
      ]
    },
    {
      "cell_type": "code",
      "metadata": {
        "colab": {
          "base_uri": "https://localhost:8080/"
        },
        "id": "AXyNMmG83xij",
        "outputId": "81cb8fe1-af18-4b64-b035-12f27849ab7c"
      },
      "source": [
        "ls1.pop()"
      ],
      "execution_count": null,
      "outputs": [
        {
          "output_type": "execute_result",
          "data": {
            "text/plain": [
              "1000"
            ]
          },
          "metadata": {},
          "execution_count": 36
        }
      ]
    },
    {
      "cell_type": "code",
      "metadata": {
        "colab": {
          "base_uri": "https://localhost:8080/"
        },
        "id": "H_vDVY5N37zo",
        "outputId": "389e97fa-5e21-4882-a64c-d6a864a5603d"
      },
      "source": [
        "ls1"
      ],
      "execution_count": null,
      "outputs": [
        {
          "output_type": "execute_result",
          "data": {
            "text/plain": [
              "[4, 5, 6, 'Hi', 7, 8, 9, 90, 100, 500]"
            ]
          },
          "metadata": {},
          "execution_count": 37
        }
      ]
    },
    {
      "cell_type": "code",
      "metadata": {
        "colab": {
          "base_uri": "https://localhost:8080/"
        },
        "id": "lc6rqn0S3-FV",
        "outputId": "84147bca-74e7-445b-9eac-4368bdf14747"
      },
      "source": [
        "ls1.pop(5) #pass index"
      ],
      "execution_count": null,
      "outputs": [
        {
          "output_type": "execute_result",
          "data": {
            "text/plain": [
              "8"
            ]
          },
          "metadata": {},
          "execution_count": 38
        }
      ]
    },
    {
      "cell_type": "code",
      "metadata": {
        "colab": {
          "base_uri": "https://localhost:8080/"
        },
        "id": "10hCoGxg4G-6",
        "outputId": "0c069ce5-5dcd-461b-8fa8-f5495afdb5ef"
      },
      "source": [
        "ls1"
      ],
      "execution_count": null,
      "outputs": [
        {
          "output_type": "execute_result",
          "data": {
            "text/plain": [
              "[4, 5, 6, 'Hi', 7, 9, 90, 100, 500]"
            ]
          },
          "metadata": {},
          "execution_count": 39
        }
      ]
    },
    {
      "cell_type": "code",
      "metadata": {
        "id": "v5vYIWOE4IE_"
      },
      "source": [
        "ls1.remove(90) #pass eleement"
      ],
      "execution_count": null,
      "outputs": []
    },
    {
      "cell_type": "code",
      "metadata": {
        "id": "63dHBrWi4S_v"
      },
      "source": [
        "del ls3"
      ],
      "execution_count": null,
      "outputs": []
    },
    {
      "cell_type": "code",
      "metadata": {
        "colab": {
          "base_uri": "https://localhost:8080/",
          "height": 163
        },
        "id": "eaM9UABE4ySh",
        "outputId": "23afaf68-89e9-4360-d3f1-bdea843ec616"
      },
      "source": [
        "ls3"
      ],
      "execution_count": null,
      "outputs": [
        {
          "output_type": "error",
          "ename": "NameError",
          "evalue": "ignored",
          "traceback": [
            "\u001b[0;31m---------------------------------------------------------------------------\u001b[0m",
            "\u001b[0;31mNameError\u001b[0m                                 Traceback (most recent call last)",
            "\u001b[0;32m<ipython-input-43-25dc1039030c>\u001b[0m in \u001b[0;36m<module>\u001b[0;34m()\u001b[0m\n\u001b[0;32m----> 1\u001b[0;31m \u001b[0mls3\u001b[0m\u001b[0;34m\u001b[0m\u001b[0;34m\u001b[0m\u001b[0m\n\u001b[0m",
            "\u001b[0;31mNameError\u001b[0m: name 'ls3' is not defined"
          ]
        }
      ]
    },
    {
      "cell_type": "code",
      "metadata": {
        "id": "AcVeQ1dL4zpf"
      },
      "source": [
        "ls2.clear()"
      ],
      "execution_count": null,
      "outputs": []
    },
    {
      "cell_type": "code",
      "metadata": {
        "colab": {
          "base_uri": "https://localhost:8080/"
        },
        "id": "rqScBFFj46gK",
        "outputId": "5267d3b3-66d2-4ecb-d928-e1bb589eb5f7"
      },
      "source": [
        "ls2"
      ],
      "execution_count": null,
      "outputs": [
        {
          "output_type": "execute_result",
          "data": {
            "text/plain": [
              "[]"
            ]
          },
          "metadata": {},
          "execution_count": 45
        }
      ]
    },
    {
      "cell_type": "code",
      "metadata": {
        "colab": {
          "base_uri": "https://localhost:8080/"
        },
        "id": "DZgvo6qO47ng",
        "outputId": "38f29478-2bc4-498b-debb-0697e630899f"
      },
      "source": [
        "ls1"
      ],
      "execution_count": null,
      "outputs": [
        {
          "output_type": "execute_result",
          "data": {
            "text/plain": [
              "[4, 5, 6, 'Hi', 7, 9, 100, 500]"
            ]
          },
          "metadata": {},
          "execution_count": 46
        }
      ]
    },
    {
      "cell_type": "code",
      "metadata": {
        "colab": {
          "base_uri": "https://localhost:8080/",
          "height": 163
        },
        "id": "r4qQoOOj5IPL",
        "outputId": "0e8d13f5-f068-4d5b-bd25-387ded240c54"
      },
      "source": [
        "ls1.sort()"
      ],
      "execution_count": null,
      "outputs": [
        {
          "output_type": "error",
          "ename": "TypeError",
          "evalue": "ignored",
          "traceback": [
            "\u001b[0;31m---------------------------------------------------------------------------\u001b[0m",
            "\u001b[0;31mTypeError\u001b[0m                                 Traceback (most recent call last)",
            "\u001b[0;32m<ipython-input-47-ded03b09bd88>\u001b[0m in \u001b[0;36m<module>\u001b[0;34m()\u001b[0m\n\u001b[0;32m----> 1\u001b[0;31m \u001b[0mls1\u001b[0m\u001b[0;34m.\u001b[0m\u001b[0msort\u001b[0m\u001b[0;34m(\u001b[0m\u001b[0;34m)\u001b[0m\u001b[0;34m\u001b[0m\u001b[0;34m\u001b[0m\u001b[0m\n\u001b[0m",
            "\u001b[0;31mTypeError\u001b[0m: '<' not supported between instances of 'str' and 'int'"
          ]
        }
      ]
    },
    {
      "cell_type": "code",
      "metadata": {
        "id": "jljH8Kxs5Rnm"
      },
      "source": [
        "ls1.reverse()"
      ],
      "execution_count": null,
      "outputs": []
    },
    {
      "cell_type": "code",
      "metadata": {
        "colab": {
          "base_uri": "https://localhost:8080/"
        },
        "id": "zMMWz-lp5av5",
        "outputId": "06b1a05e-fca7-4891-84fb-5a4aa856a84b"
      },
      "source": [
        "ls1"
      ],
      "execution_count": null,
      "outputs": [
        {
          "output_type": "execute_result",
          "data": {
            "text/plain": [
              "[500, 100, 9, 7, 'Hi', 6, 5, 4]"
            ]
          },
          "metadata": {},
          "execution_count": 50
        }
      ]
    },
    {
      "cell_type": "code",
      "metadata": {
        "id": "K0fLqZmM5cDQ"
      },
      "source": [
        "ls1.remove(\"Hi\")"
      ],
      "execution_count": null,
      "outputs": []
    },
    {
      "cell_type": "code",
      "metadata": {
        "id": "WnIoW2Vp5i9q"
      },
      "source": [
        "ls1.sort()"
      ],
      "execution_count": null,
      "outputs": []
    },
    {
      "cell_type": "code",
      "metadata": {
        "colab": {
          "base_uri": "https://localhost:8080/"
        },
        "id": "UaZSHghf5kOz",
        "outputId": "b534cfc4-f68e-4317-ba11-ff55cb180ba9"
      },
      "source": [
        "ls1"
      ],
      "execution_count": null,
      "outputs": [
        {
          "output_type": "execute_result",
          "data": {
            "text/plain": [
              "[4, 5, 6, 7, 9, 100, 500]"
            ]
          },
          "metadata": {},
          "execution_count": 55
        }
      ]
    },
    {
      "cell_type": "code",
      "metadata": {
        "id": "jZUPhmbU5qUl"
      },
      "source": [
        "ls1.sort(reverse=True)"
      ],
      "execution_count": null,
      "outputs": []
    },
    {
      "cell_type": "code",
      "metadata": {
        "colab": {
          "base_uri": "https://localhost:8080/"
        },
        "id": "2a7Y_DLj50WV",
        "outputId": "d8e0acce-3061-438e-b598-69fdcd194a59"
      },
      "source": [
        "ls1"
      ],
      "execution_count": null,
      "outputs": [
        {
          "output_type": "execute_result",
          "data": {
            "text/plain": [
              "[500, 100, 9, 7, 6, 5, 4]"
            ]
          },
          "metadata": {},
          "execution_count": 57
        }
      ]
    },
    {
      "cell_type": "code",
      "metadata": {
        "colab": {
          "base_uri": "https://localhost:8080/"
        },
        "id": "HLWvFnQC51zo",
        "outputId": "a0c25abf-f6d4-4cf9-ed33-8dd8bcd2a965"
      },
      "source": [
        "ls1.count(100)"
      ],
      "execution_count": null,
      "outputs": [
        {
          "output_type": "execute_result",
          "data": {
            "text/plain": [
              "1"
            ]
          },
          "metadata": {},
          "execution_count": 58
        }
      ]
    },
    {
      "cell_type": "code",
      "metadata": {
        "colab": {
          "base_uri": "https://localhost:8080/"
        },
        "id": "S5CPalz35_ab",
        "outputId": "c80bd4e5-dd16-443a-e00e-b896486060a5"
      },
      "source": [
        "ls1.index(500)"
      ],
      "execution_count": null,
      "outputs": [
        {
          "output_type": "execute_result",
          "data": {
            "text/plain": [
              "0"
            ]
          },
          "metadata": {},
          "execution_count": 59
        }
      ]
    },
    {
      "cell_type": "code",
      "metadata": {
        "id": "NNixWBX-6EM4"
      },
      "source": [
        "#cloning method\n",
        "\n",
        "m = ls1.copy()"
      ],
      "execution_count": null,
      "outputs": []
    },
    {
      "cell_type": "code",
      "metadata": {
        "colab": {
          "base_uri": "https://localhost:8080/"
        },
        "id": "GTPqKYnx6MhO",
        "outputId": "a973bc40-0841-4609-db0d-d679b26153b3"
      },
      "source": [
        "m"
      ],
      "execution_count": null,
      "outputs": [
        {
          "output_type": "execute_result",
          "data": {
            "text/plain": [
              "[500, 100, 9, 7, 6, 5, 4]"
            ]
          },
          "metadata": {},
          "execution_count": 62
        }
      ]
    },
    {
      "cell_type": "code",
      "metadata": {
        "id": "Y-9x_WWC6RWX"
      },
      "source": [
        "p = ls1"
      ],
      "execution_count": null,
      "outputs": []
    },
    {
      "cell_type": "code",
      "metadata": {
        "colab": {
          "base_uri": "https://localhost:8080/"
        },
        "id": "HjuFw7b06WVr",
        "outputId": "ae644b8b-efae-43a9-9de5-0f563e2439ae"
      },
      "source": [
        "p"
      ],
      "execution_count": null,
      "outputs": [
        {
          "output_type": "execute_result",
          "data": {
            "text/plain": [
              "[500, 100, 9, 7, 6, 5, 4]"
            ]
          },
          "metadata": {},
          "execution_count": 64
        }
      ]
    },
    {
      "cell_type": "code",
      "metadata": {
        "colab": {
          "base_uri": "https://localhost:8080/"
        },
        "id": "9Y7wKdVM6XLk",
        "outputId": "9a8f1fd3-485f-4512-9d01-37434846a058"
      },
      "source": [
        "min(p)"
      ],
      "execution_count": null,
      "outputs": [
        {
          "output_type": "execute_result",
          "data": {
            "text/plain": [
              "4"
            ]
          },
          "metadata": {},
          "execution_count": 65
        }
      ]
    },
    {
      "cell_type": "code",
      "metadata": {
        "colab": {
          "base_uri": "https://localhost:8080/"
        },
        "id": "n57ufv0x6bAa",
        "outputId": "2b90c6b7-af64-4f9c-a06d-2359905f4119"
      },
      "source": [
        "max(p)"
      ],
      "execution_count": null,
      "outputs": [
        {
          "output_type": "execute_result",
          "data": {
            "text/plain": [
              "500"
            ]
          },
          "metadata": {},
          "execution_count": 66
        }
      ]
    },
    {
      "cell_type": "code",
      "metadata": {
        "colab": {
          "base_uri": "https://localhost:8080/"
        },
        "id": "RubavVwu6cs1",
        "outputId": "8194d769-6ad7-487f-9959-da9c522f42f0"
      },
      "source": [
        "len(p)"
      ],
      "execution_count": null,
      "outputs": [
        {
          "output_type": "execute_result",
          "data": {
            "text/plain": [
              "7"
            ]
          },
          "metadata": {},
          "execution_count": 67
        }
      ]
    },
    {
      "cell_type": "code",
      "metadata": {
        "id": "G5pQuYtP6i0b"
      },
      "source": [
        ""
      ],
      "execution_count": null,
      "outputs": []
    },
    {
      "cell_type": "markdown",
      "metadata": {
        "id": "D7pYgcu07rAL"
      },
      "source": [
        "Application of List\n",
        "\n",
        "1) List Comprension\n",
        "\n"
      ]
    },
    {
      "cell_type": "code",
      "metadata": {
        "id": "o8e3O2vh7mBJ"
      },
      "source": [
        "m = []\n",
        "for i in range(1,1001):\n",
        "  #print(i)\n",
        "  m.append(i)"
      ],
      "execution_count": null,
      "outputs": []
    },
    {
      "cell_type": "code",
      "metadata": {
        "colab": {
          "base_uri": "https://localhost:8080/"
        },
        "id": "j4Iq3FUI7mKe",
        "outputId": "9f74f413-2d0e-4f0f-9f3d-24e4a5367dbe"
      },
      "source": [
        "sum(m)"
      ],
      "execution_count": null,
      "outputs": [
        {
          "output_type": "execute_result",
          "data": {
            "text/plain": [
              "500500"
            ]
          },
          "metadata": {},
          "execution_count": 43
        }
      ]
    },
    {
      "cell_type": "code",
      "metadata": {
        "id": "RhaUSDeD7mVY"
      },
      "source": [
        "n = [var for var in range(1,11)]"
      ],
      "execution_count": null,
      "outputs": []
    },
    {
      "cell_type": "code",
      "metadata": {
        "colab": {
          "base_uri": "https://localhost:8080/"
        },
        "id": "ZwXe04JB7mhF",
        "outputId": "0e6a3a7e-37fd-4104-a560-e02973a021f3"
      },
      "source": [
        "sum(n)"
      ],
      "execution_count": null,
      "outputs": [
        {
          "output_type": "execute_result",
          "data": {
            "text/plain": [
              "55"
            ]
          },
          "metadata": {},
          "execution_count": 46
        }
      ]
    },
    {
      "cell_type": "code",
      "metadata": {
        "id": "gbbKUxKz7mqB"
      },
      "source": [
        "even = []\n",
        "odd = []\n",
        "for i in range(1,101):\n",
        "  if i%2==0:\n",
        "    even.append(i)\n",
        "    #print(i)\n",
        "  else:\n",
        "    odd.append(i)"
      ],
      "execution_count": null,
      "outputs": []
    },
    {
      "cell_type": "code",
      "metadata": {
        "colab": {
          "base_uri": "https://localhost:8080/"
        },
        "id": "ZcS8Qda-7myu",
        "outputId": "6f39d496-ecb9-4e0b-c8a3-de9a3ccf3297"
      },
      "source": [
        "print(\"Addition of even numbers: \",sum(even))\n",
        "print(\"Addition of odd numbers: \",sum(odd))"
      ],
      "execution_count": null,
      "outputs": [
        {
          "output_type": "stream",
          "name": "stdout",
          "text": [
            "Addition of even numbers:  2550\n",
            "Addition of odd numbers:  2500\n"
          ]
        }
      ]
    },
    {
      "cell_type": "code",
      "metadata": {
        "id": "Z0Zq79M97m8y"
      },
      "source": [
        "even1 = [vr for vr in range(1,101) if vr%2==0]\n",
        "odd1 =   [vr for vr in range(1,101) if vr%2!=1]"
      ],
      "execution_count": null,
      "outputs": []
    },
    {
      "cell_type": "code",
      "metadata": {
        "id": "hEBNMp1IMTHy"
      },
      "source": [
        ""
      ],
      "execution_count": null,
      "outputs": []
    },
    {
      "cell_type": "code",
      "metadata": {
        "colab": {
          "base_uri": "https://localhost:8080/"
        },
        "id": "kit2omOO7nHG",
        "outputId": "3b60d8f8-c224-4049-e7c7-1e42067c1e0a"
      },
      "source": [
        "print(\"Addition of even numbers: \",sum(even1))\n",
        "print(\"Addition of odd numbers: \",sum(odd1))"
      ],
      "execution_count": null,
      "outputs": [
        {
          "output_type": "stream",
          "name": "stdout",
          "text": [
            "Addition of even numbers:  2550\n",
            "Addition of odd numbers:  2500\n"
          ]
        }
      ]
    },
    {
      "cell_type": "markdown",
      "metadata": {
        "id": "7EtgUTio_WXz"
      },
      "source": [
        "\n",
        "ts = (5,6,7,78,8,98,9,9,4,54) #update from 98 to 100\n",
        "\n",
        "1) Find out odd number with list comprehnsion (1,101)\n",
        "\n",
        "2) [2,6,12,20,30,42,a,b,c] find out the value of a,b,c with list comprehension\n",
        "\n",
        "3) [0,6,24,60,120,210,a,b,c] find out the value of a,b,c with list comprehension\n",
        "\n",
        "4) [1,27,125,343,729,a,b,c] find out the value of a,b,c with list comprehension"
      ]
    },
    {
      "cell_type": "code",
      "metadata": {
        "id": "bMvpkw9QLHoH"
      },
      "source": [
        ""
      ],
      "execution_count": null,
      "outputs": []
    },
    {
      "cell_type": "code",
      "metadata": {
        "colab": {
          "base_uri": "https://localhost:8080/"
        },
        "id": "nESpHoua7nRf",
        "outputId": "2012c51f-5003-4fa7-b945-b78d5583331c"
      },
      "source": [
        "#2)\n",
        "[v**2+v for v in range(1,11)]\n"
      ],
      "execution_count": null,
      "outputs": [
        {
          "output_type": "execute_result",
          "data": {
            "text/plain": [
              "[2, 6, 12, 20, 30, 42, 56, 72, 90, 110]"
            ]
          },
          "metadata": {},
          "execution_count": 60
        }
      ]
    },
    {
      "cell_type": "code",
      "metadata": {
        "colab": {
          "base_uri": "https://localhost:8080/"
        },
        "id": "bVBcyDgm7nZ8",
        "outputId": "7373596c-b0c7-45dc-e1b2-bfa22f3cc7ac"
      },
      "source": [
        "[n*(n+1) for n in range(1,11)]"
      ],
      "execution_count": null,
      "outputs": [
        {
          "output_type": "execute_result",
          "data": {
            "text/plain": [
              "[2, 6, 12, 20, 30, 42, 56, 72, 90, 110]"
            ]
          },
          "metadata": {},
          "execution_count": 62
        }
      ]
    },
    {
      "cell_type": "markdown",
      "metadata": {
        "id": "IyAH4lzCavC3"
      },
      "source": [
        "2D & 3D lost"
      ]
    },
    {
      "cell_type": "code",
      "metadata": {
        "id": "RUIaVjeDatV0"
      },
      "source": [
        "ls1 = [4,56,6,7,8,9,0] #1D list"
      ],
      "execution_count": null,
      "outputs": []
    },
    {
      "cell_type": "code",
      "metadata": {
        "id": "DwpL7DXFbGsk"
      },
      "source": [
        "ls2 = [[4,5,6],[3,4,6]] #2D list"
      ],
      "execution_count": null,
      "outputs": []
    },
    {
      "cell_type": "code",
      "metadata": {
        "colab": {
          "base_uri": "https://localhost:8080/"
        },
        "id": "O5OOXtSqbG_U",
        "outputId": "35b0e6a5-5eaf-47b5-9387-466e87b52843"
      },
      "source": [
        "ls1[1]"
      ],
      "execution_count": null,
      "outputs": [
        {
          "output_type": "execute_result",
          "data": {
            "text/plain": [
              "56"
            ]
          },
          "metadata": {},
          "execution_count": 64
        }
      ]
    },
    {
      "cell_type": "code",
      "metadata": {
        "colab": {
          "base_uri": "https://localhost:8080/"
        },
        "id": "El_AercIbHN5",
        "outputId": "8a1ee021-d655-4773-e702-716f2afe7a81"
      },
      "source": [
        "ls2[1][0]"
      ],
      "execution_count": null,
      "outputs": [
        {
          "output_type": "execute_result",
          "data": {
            "text/plain": [
              "3"
            ]
          },
          "metadata": {},
          "execution_count": 67
        }
      ]
    },
    {
      "cell_type": "code",
      "metadata": {
        "id": "kOxCM3PpbHbf"
      },
      "source": [
        "ls3 = [[[3,4,5],[5,7,9]],[[2,3,7],[1,9,5]]] #3D (mXrXc)"
      ],
      "execution_count": null,
      "outputs": []
    },
    {
      "cell_type": "code",
      "metadata": {
        "colab": {
          "base_uri": "https://localhost:8080/"
        },
        "id": "M_ihOoUBdLal",
        "outputId": "ed2b5f71-dbe9-4185-9733-8bd18114261e"
      },
      "source": [
        "ls3[1][1][1]"
      ],
      "execution_count": null,
      "outputs": [
        {
          "output_type": "execute_result",
          "data": {
            "text/plain": [
              "9"
            ]
          },
          "metadata": {},
          "execution_count": 75
        }
      ]
    },
    {
      "cell_type": "code",
      "metadata": {
        "colab": {
          "base_uri": "https://localhost:8080/"
        },
        "id": "0lIMqj8Fd7He",
        "outputId": "d4e5771d-63bf-4a49-8f4d-af746e566ae3"
      },
      "source": [
        "ls3[1][0][1]"
      ],
      "execution_count": null,
      "outputs": [
        {
          "output_type": "execute_result",
          "data": {
            "text/plain": [
              "3"
            ]
          },
          "metadata": {},
          "execution_count": 78
        }
      ]
    },
    {
      "cell_type": "code",
      "metadata": {
        "colab": {
          "base_uri": "https://localhost:8080/"
        },
        "id": "wzJaV52PeXD8",
        "outputId": "b76eb831-88c4-41fd-82e6-7eb2cecc0f26"
      },
      "source": [
        "for i in ls1:\n",
        "  print(i)"
      ],
      "execution_count": null,
      "outputs": [
        {
          "output_type": "stream",
          "name": "stdout",
          "text": [
            "4\n",
            "56\n",
            "6\n",
            "7\n",
            "8\n",
            "9\n",
            "0\n"
          ]
        }
      ]
    },
    {
      "cell_type": "code",
      "metadata": {
        "colab": {
          "base_uri": "https://localhost:8080/"
        },
        "id": "Ae0FSldIedhl",
        "outputId": "1d2d7553-72cb-47e3-9e85-98b64de7a22a"
      },
      "source": [
        "for i in ls2:\n",
        "  for j in i:\n",
        "    print(j)"
      ],
      "execution_count": null,
      "outputs": [
        {
          "output_type": "stream",
          "name": "stdout",
          "text": [
            "4\n",
            "5\n",
            "6\n",
            "3\n",
            "4\n",
            "6\n"
          ]
        }
      ]
    },
    {
      "cell_type": "code",
      "metadata": {
        "colab": {
          "base_uri": "https://localhost:8080/"
        },
        "id": "i2XlS__JevzO",
        "outputId": "58ec73ea-ea57-49da-96c3-ddc7bed68eba"
      },
      "source": [
        "for i in ls3:\n",
        "  for j in i:\n",
        "    for k in j:\n",
        "      print(k)"
      ],
      "execution_count": null,
      "outputs": [
        {
          "output_type": "stream",
          "name": "stdout",
          "text": [
            "3\n",
            "4\n",
            "5\n",
            "5\n",
            "7\n",
            "9\n",
            "2\n",
            "3\n",
            "7\n",
            "1\n",
            "9\n",
            "5\n"
          ]
        }
      ]
    },
    {
      "cell_type": "markdown",
      "metadata": {
        "id": "n6rHljSl6hTP"
      },
      "source": [
        "# Dictionary"
      ]
    },
    {
      "cell_type": "code",
      "metadata": {
        "id": "ZhE6t82o6eir"
      },
      "source": [
        "d1 = {\"A\":10,\"B\":20,\"C\":30}"
      ],
      "execution_count": null,
      "outputs": []
    },
    {
      "cell_type": "code",
      "metadata": {
        "colab": {
          "base_uri": "https://localhost:8080/"
        },
        "id": "8Z_LxPsfFj6I",
        "outputId": "547760bc-3025-48b6-b546-db36e6a3d9a5"
      },
      "source": [
        "d1[\"B\"]"
      ],
      "execution_count": null,
      "outputs": [
        {
          "output_type": "execute_result",
          "data": {
            "text/plain": [
              "20"
            ]
          },
          "metadata": {},
          "execution_count": 3
        }
      ]
    },
    {
      "cell_type": "code",
      "metadata": {
        "colab": {
          "base_uri": "https://localhost:8080/"
        },
        "id": "ftBZ96ggFnR3",
        "outputId": "b16ba45f-e193-4e7c-c4ba-18698553c1c8"
      },
      "source": [
        "d1[\"A\"]"
      ],
      "execution_count": null,
      "outputs": [
        {
          "output_type": "execute_result",
          "data": {
            "text/plain": [
              "10"
            ]
          },
          "metadata": {},
          "execution_count": 4
        }
      ]
    },
    {
      "cell_type": "code",
      "metadata": {
        "id": "vEh7kpumFsNF"
      },
      "source": [
        "d1[\"Z\"] = 90"
      ],
      "execution_count": null,
      "outputs": []
    },
    {
      "cell_type": "code",
      "metadata": {
        "colab": {
          "base_uri": "https://localhost:8080/"
        },
        "id": "2WcB7uv9F6vP",
        "outputId": "18b229da-4343-49f8-ead6-993aa140e516"
      },
      "source": [
        "d1"
      ],
      "execution_count": null,
      "outputs": [
        {
          "output_type": "execute_result",
          "data": {
            "text/plain": [
              "{'A': 10, 'B': 20, 'C': 30, 'Z': 90}"
            ]
          },
          "metadata": {},
          "execution_count": 6
        }
      ]
    },
    {
      "cell_type": "code",
      "metadata": {
        "colab": {
          "base_uri": "https://localhost:8080/"
        },
        "id": "FCy_9kdJ3AB4",
        "outputId": "4ade63e1-e3bc-4e9b-a273-c559c6ff334e"
      },
      "source": [
        "d1.keys()"
      ],
      "execution_count": null,
      "outputs": [
        {
          "output_type": "execute_result",
          "data": {
            "text/plain": [
              "dict_keys(['A', 'B', 'C', 'Z'])"
            ]
          },
          "metadata": {},
          "execution_count": 7
        }
      ]
    },
    {
      "cell_type": "code",
      "metadata": {
        "colab": {
          "base_uri": "https://localhost:8080/"
        },
        "id": "zpu2XfHe3ALV",
        "outputId": "cdbf508d-0efa-4d33-adb5-d0e2739ae871"
      },
      "source": [
        "d1.values()"
      ],
      "execution_count": null,
      "outputs": [
        {
          "output_type": "execute_result",
          "data": {
            "text/plain": [
              "dict_values([10, 20, 30, 90])"
            ]
          },
          "metadata": {},
          "execution_count": 8
        }
      ]
    },
    {
      "cell_type": "code",
      "metadata": {
        "colab": {
          "base_uri": "https://localhost:8080/"
        },
        "id": "hm69S_QI3AUx",
        "outputId": "2815763e-ccd8-4bbd-905c-497f446251cc"
      },
      "source": [
        "d1.items()"
      ],
      "execution_count": null,
      "outputs": [
        {
          "output_type": "execute_result",
          "data": {
            "text/plain": [
              "dict_items([('A', 10), ('B', 20), ('C', 30), ('Z', 90)])"
            ]
          },
          "metadata": {},
          "execution_count": 9
        }
      ]
    },
    {
      "cell_type": "code",
      "metadata": {
        "colab": {
          "base_uri": "https://localhost:8080/"
        },
        "id": "ihLN-mFa3AgH",
        "outputId": "50ea1857-c3b1-4083-ef2f-76e3231dbc5d"
      },
      "source": [
        "d1.pop(\"B\")"
      ],
      "execution_count": null,
      "outputs": [
        {
          "output_type": "execute_result",
          "data": {
            "text/plain": [
              "20"
            ]
          },
          "metadata": {},
          "execution_count": 11
        }
      ]
    },
    {
      "cell_type": "code",
      "metadata": {
        "colab": {
          "base_uri": "https://localhost:8080/"
        },
        "id": "rhv5lyv-3AoY",
        "outputId": "2c0d5ea7-06b4-4fce-fdb4-97fdd774d833"
      },
      "source": [
        "d1"
      ],
      "execution_count": null,
      "outputs": [
        {
          "output_type": "execute_result",
          "data": {
            "text/plain": [
              "{'A': 10, 'C': 30, 'Z': 90}"
            ]
          },
          "metadata": {},
          "execution_count": 12
        }
      ]
    },
    {
      "cell_type": "code",
      "metadata": {
        "id": "uEOAxz6_3Aup"
      },
      "source": [
        "d1.clear()"
      ],
      "execution_count": null,
      "outputs": []
    },
    {
      "cell_type": "code",
      "metadata": {
        "colab": {
          "base_uri": "https://localhost:8080/"
        },
        "id": "CdDidjnA3A2f",
        "outputId": "ce9e237f-31d4-4b5b-ab49-8f465a0c0170"
      },
      "source": [
        "d1"
      ],
      "execution_count": null,
      "outputs": [
        {
          "output_type": "execute_result",
          "data": {
            "text/plain": [
              "{}"
            ]
          },
          "metadata": {},
          "execution_count": 14
        }
      ]
    },
    {
      "cell_type": "code",
      "metadata": {
        "id": "ZQ8NcFzl3kP9"
      },
      "source": [
        "d2 = {\"A\":50,\"K\":70,\"Q\":80,\"J\":90}"
      ],
      "execution_count": null,
      "outputs": []
    },
    {
      "cell_type": "code",
      "metadata": {
        "colab": {
          "base_uri": "https://localhost:8080/"
        },
        "id": "zpelC3CP3kYr",
        "outputId": "015f6ce6-be8f-4e49-b1d0-85fe301f4070"
      },
      "source": [
        "d2.get(\"K\")"
      ],
      "execution_count": null,
      "outputs": [
        {
          "output_type": "execute_result",
          "data": {
            "text/plain": [
              "70"
            ]
          },
          "metadata": {},
          "execution_count": 19
        }
      ]
    },
    {
      "cell_type": "code",
      "metadata": {
        "colab": {
          "base_uri": "https://localhost:8080/"
        },
        "id": "iZ9O6Vqf3kuF",
        "outputId": "431ccd68-0548-4c44-aae7-15ab9a167eef"
      },
      "source": [
        "d2[\"K\"]"
      ],
      "execution_count": null,
      "outputs": [
        {
          "output_type": "execute_result",
          "data": {
            "text/plain": [
              "70"
            ]
          },
          "metadata": {},
          "execution_count": 20
        }
      ]
    },
    {
      "cell_type": "code",
      "metadata": {
        "id": "s3fs4itI4Gxn"
      },
      "source": [
        "d3 = {\"M\":10}"
      ],
      "execution_count": null,
      "outputs": []
    },
    {
      "cell_type": "code",
      "metadata": {
        "id": "10c8NMbM4G6r"
      },
      "source": [
        "d2.update(d3)"
      ],
      "execution_count": null,
      "outputs": []
    },
    {
      "cell_type": "code",
      "metadata": {
        "colab": {
          "base_uri": "https://localhost:8080/"
        },
        "id": "24C-hYir4HEu",
        "outputId": "6542643b-1a0e-45eb-ba21-fafc83e5d78c"
      },
      "source": [
        "d2"
      ],
      "execution_count": null,
      "outputs": [
        {
          "output_type": "execute_result",
          "data": {
            "text/plain": [
              "{'A': 50, 'J': 90, 'K': 70, 'M': 10, 'Q': 80}"
            ]
          },
          "metadata": {},
          "execution_count": 23
        }
      ]
    },
    {
      "cell_type": "code",
      "metadata": {
        "id": "H5J3Bl8R4HK-"
      },
      "source": [
        "Y = d2.copy()"
      ],
      "execution_count": null,
      "outputs": []
    },
    {
      "cell_type": "code",
      "metadata": {
        "colab": {
          "base_uri": "https://localhost:8080/"
        },
        "id": "8ng3X5nL4HVL",
        "outputId": "a1ee732e-4dac-487a-8928-40210367965e"
      },
      "source": [
        "Y"
      ],
      "execution_count": null,
      "outputs": [
        {
          "output_type": "execute_result",
          "data": {
            "text/plain": [
              "{'A': 50, 'J': 90, 'K': 70, 'M': 10, 'Q': 80}"
            ]
          },
          "metadata": {},
          "execution_count": 25
        }
      ]
    },
    {
      "cell_type": "code",
      "metadata": {
        "id": "OMMAD38j3k5i"
      },
      "source": [
        "print(Y)"
      ],
      "execution_count": null,
      "outputs": []
    },
    {
      "cell_type": "code",
      "metadata": {
        "colab": {
          "base_uri": "https://localhost:8080/"
        },
        "id": "PYlKzg6X4bgB",
        "outputId": "a63e9270-3f67-4922-f9aa-3acac327560d"
      },
      "source": [
        "d2.keys()"
      ],
      "execution_count": null,
      "outputs": [
        {
          "output_type": "execute_result",
          "data": {
            "text/plain": [
              "dict_keys(['A', 'K', 'Q', 'J', 'M'])"
            ]
          },
          "metadata": {},
          "execution_count": 28
        }
      ]
    },
    {
      "cell_type": "code",
      "metadata": {
        "colab": {
          "base_uri": "https://localhost:8080/"
        },
        "id": "rdALXvEa4boi",
        "outputId": "bdeed90f-fe6f-4709-ed59-6efe38a7e6dc"
      },
      "source": [
        "d2.items()"
      ],
      "execution_count": null,
      "outputs": [
        {
          "output_type": "execute_result",
          "data": {
            "text/plain": [
              "dict_items([('A', 50), ('K', 70), ('Q', 80), ('J', 90), ('M', 10)])"
            ]
          },
          "metadata": {},
          "execution_count": 29
        }
      ]
    },
    {
      "cell_type": "code",
      "metadata": {
        "id": "ovzbUjmU4bxa"
      },
      "source": [
        "t1 = (\"Name\",\"College\",\"Subject\",\"Marks\")"
      ],
      "execution_count": null,
      "outputs": []
    },
    {
      "cell_type": "code",
      "metadata": {
        "id": "N93IXEVU4b5G"
      },
      "source": [
        "info = {}.fromkeys(t1)"
      ],
      "execution_count": null,
      "outputs": []
    },
    {
      "cell_type": "code",
      "metadata": {
        "id": "l0Kezgz-4cBh"
      },
      "source": [
        "info[\"Name\"] = \"Mukesh\"\n",
        "info[\"Marks\"] = 90\n",
        "info[\"Subject\"] = \"Maths\"\n",
        "info[\"College\"] = \"Mumbai University\""
      ],
      "execution_count": null,
      "outputs": []
    },
    {
      "cell_type": "code",
      "metadata": {
        "colab": {
          "base_uri": "https://localhost:8080/"
        },
        "id": "Q0XXcBxJ6Eun",
        "outputId": "1a1289cb-4157-4e5e-82f7-adc02635829f"
      },
      "source": [
        "info"
      ],
      "execution_count": null,
      "outputs": [
        {
          "output_type": "execute_result",
          "data": {
            "text/plain": [
              "{'College': 'Mumbai University',\n",
              " 'Marks': 90,\n",
              " 'Name': 'Mukesh',\n",
              " 'Subject': 'Maths'}"
            ]
          },
          "metadata": {},
          "execution_count": 34
        }
      ]
    },
    {
      "cell_type": "code",
      "metadata": {
        "id": "FjSAaj34F-kh"
      },
      "source": [
        "ls = list(d1) "
      ],
      "execution_count": null,
      "outputs": []
    },
    {
      "cell_type": "code",
      "metadata": {
        "id": "i3S6UKRHGYQF"
      },
      "source": [
        "ls[2] =\"Y\" "
      ],
      "execution_count": null,
      "outputs": []
    },
    {
      "cell_type": "code",
      "metadata": {
        "id": "_sRVVJVsGsKA"
      },
      "source": [
        "t1 = tuple(ls)"
      ],
      "execution_count": null,
      "outputs": []
    },
    {
      "cell_type": "code",
      "metadata": {
        "id": "grrrZZYaIcrH",
        "colab": {
          "base_uri": "https://localhost:8080/"
        },
        "outputId": "e90573ac-9b4d-4b58-99be-84addf7bf8d6"
      },
      "source": [
        "t1"
      ],
      "execution_count": null,
      "outputs": [
        {
          "output_type": "execute_result",
          "data": {
            "text/plain": [
              "('A', 'B', 'Y', 'D', 'Z')"
            ]
          },
          "metadata": {},
          "execution_count": 102
        }
      ]
    },
    {
      "cell_type": "code",
      "metadata": {
        "id": "SLUoMbJMGs13"
      },
      "source": [
        "d2 = {}.fromkeys(t1)"
      ],
      "execution_count": null,
      "outputs": []
    },
    {
      "cell_type": "code",
      "metadata": {
        "colab": {
          "base_uri": "https://localhost:8080/"
        },
        "id": "_9ZA_YG6HR9j",
        "outputId": "72cc29e9-2c60-4b7d-a7cd-63cda018c181"
      },
      "source": [
        "d2"
      ],
      "execution_count": null,
      "outputs": [
        {
          "output_type": "execute_result",
          "data": {
            "text/plain": [
              "{'A': None, 'B': None, 'D': None, 'Y': None, 'Z': None}"
            ]
          },
          "metadata": {},
          "execution_count": 104
        }
      ]
    },
    {
      "cell_type": "code",
      "metadata": {
        "id": "6smI621eG6AO"
      },
      "source": [
        "d2[\"A\"] = 10\n",
        "d2[\"B\"] = 20\n",
        "d2[\"D\"] = 30\n",
        "d2[\"Y\"] = 100\n",
        "d2[\"Z\"] = 90"
      ],
      "execution_count": null,
      "outputs": []
    },
    {
      "cell_type": "code",
      "metadata": {
        "colab": {
          "base_uri": "https://localhost:8080/"
        },
        "id": "8-c5_cpJG7Xy",
        "outputId": "8917b3f4-90d0-46d0-bfb4-22b02269531f"
      },
      "source": [
        "d2"
      ],
      "execution_count": null,
      "outputs": [
        {
          "output_type": "execute_result",
          "data": {
            "text/plain": [
              "{'A': 10, 'B': 20, 'D': 30, 'Y': 100, 'Z': 90}"
            ]
          },
          "metadata": {},
          "execution_count": 96
        }
      ]
    },
    {
      "cell_type": "code",
      "metadata": {
        "colab": {
          "base_uri": "https://localhost:8080/"
        },
        "id": "dFcxGJOzHK7j",
        "outputId": "41a7bd36-75fb-457b-b2f0-3cffbb16508a"
      },
      "source": [
        "d2.keys()"
      ],
      "execution_count": null,
      "outputs": [
        {
          "output_type": "execute_result",
          "data": {
            "text/plain": [
              "dict_keys(['A', 'B', 'Y', 'D', 'Z'])"
            ]
          },
          "metadata": {},
          "execution_count": 97
        }
      ]
    },
    {
      "cell_type": "code",
      "metadata": {
        "id": "nXZSMVZ2PwVX"
      },
      "source": [
        "n = [\"Laptop\",\"Desktop\",\"Laptop\",\"Mobile\"]\n",
        "b = [\"Lenovo\",\"Dell\",\"HP\",\"Mi\"]\n",
        "p = [50,5,70,15]\n",
        "u = [12,10,15,20]\n",
        "\n",
        "product = {\"Name\":n,\"Brand\":b,\"Price in k\":p,\"Unit\":u}"
      ],
      "execution_count": null,
      "outputs": []
    },
    {
      "cell_type": "code",
      "metadata": {
        "colab": {
          "base_uri": "https://localhost:8080/"
        },
        "id": "OEkzfsFePwgh",
        "outputId": "82555d6d-f87a-466f-e8f9-4bf1ed8fa453"
      },
      "source": [
        "product"
      ],
      "execution_count": null,
      "outputs": [
        {
          "output_type": "execute_result",
          "data": {
            "text/plain": [
              "{'Brand': ['Lenovo', 'Dell', 'HP', 'Mi'],\n",
              " 'Name': ['Laptop', 'Desktop', 'Laptop', 'Mobile'],\n",
              " 'Price in k': [50, 5, 70, 15],\n",
              " 'Unit': [12, 10, 15, 20]}"
            ]
          },
          "metadata": {},
          "execution_count": 72
        }
      ]
    },
    {
      "cell_type": "code",
      "metadata": {
        "id": "fvrZNNKLPwtj"
      },
      "source": [
        "import pandas\n",
        "dataset = pandas.DataFrame(product)"
      ],
      "execution_count": null,
      "outputs": []
    },
    {
      "cell_type": "code",
      "metadata": {
        "id": "DTaEADHcROUr"
      },
      "source": [
        ""
      ],
      "execution_count": null,
      "outputs": []
    },
    {
      "cell_type": "code",
      "metadata": {
        "colab": {
          "base_uri": "https://localhost:8080/",
          "height": 173
        },
        "id": "gdnYYcHxPw29",
        "outputId": "10b327e2-d461-47f6-f1b6-c19ff9197caa"
      },
      "source": [
        "dataset"
      ],
      "execution_count": null,
      "outputs": [
        {
          "output_type": "execute_result",
          "data": {
            "text/html": [
              "<div>\n",
              "<style scoped>\n",
              "    .dataframe tbody tr th:only-of-type {\n",
              "        vertical-align: middle;\n",
              "    }\n",
              "\n",
              "    .dataframe tbody tr th {\n",
              "        vertical-align: top;\n",
              "    }\n",
              "\n",
              "    .dataframe thead th {\n",
              "        text-align: right;\n",
              "    }\n",
              "</style>\n",
              "<table border=\"1\" class=\"dataframe\">\n",
              "  <thead>\n",
              "    <tr style=\"text-align: right;\">\n",
              "      <th></th>\n",
              "      <th>Name</th>\n",
              "      <th>Brand</th>\n",
              "      <th>Price in k</th>\n",
              "      <th>Unit</th>\n",
              "    </tr>\n",
              "  </thead>\n",
              "  <tbody>\n",
              "    <tr>\n",
              "      <th>0</th>\n",
              "      <td>Laptop</td>\n",
              "      <td>Lenovo</td>\n",
              "      <td>50</td>\n",
              "      <td>12</td>\n",
              "    </tr>\n",
              "    <tr>\n",
              "      <th>1</th>\n",
              "      <td>Desktop</td>\n",
              "      <td>Dell</td>\n",
              "      <td>5</td>\n",
              "      <td>10</td>\n",
              "    </tr>\n",
              "    <tr>\n",
              "      <th>2</th>\n",
              "      <td>Laptop</td>\n",
              "      <td>HP</td>\n",
              "      <td>70</td>\n",
              "      <td>15</td>\n",
              "    </tr>\n",
              "    <tr>\n",
              "      <th>3</th>\n",
              "      <td>Mobile</td>\n",
              "      <td>Mi</td>\n",
              "      <td>15</td>\n",
              "      <td>20</td>\n",
              "    </tr>\n",
              "  </tbody>\n",
              "</table>\n",
              "</div>"
            ],
            "text/plain": [
              "      Name   Brand  Price in k  Unit\n",
              "0   Laptop  Lenovo          50    12\n",
              "1  Desktop    Dell           5    10\n",
              "2   Laptop      HP          70    15\n",
              "3   Mobile      Mi          15    20"
            ]
          },
          "metadata": {},
          "execution_count": 74
        }
      ]
    },
    {
      "cell_type": "markdown",
      "metadata": {
        "id": "_hzVM4gtYnej"
      },
      "source": [
        "Dictionary Comprerhension"
      ]
    },
    {
      "cell_type": "code",
      "metadata": {
        "id": "oyD_t7S-YuFa"
      },
      "source": [
        ""
      ],
      "execution_count": null,
      "outputs": []
    },
    {
      "cell_type": "markdown",
      "metadata": {
        "id": "-NKDjsHq6aFg"
      },
      "source": [
        "# **Set Data Type**"
      ]
    },
    {
      "cell_type": "code",
      "metadata": {
        "id": "6yD4wOEZH6F7"
      },
      "source": [
        "s1 = {5,6,7,\"h\",2.6,5,7.6}\n",
        "s2 = {5,7,9,5,7,8,9,0,10}\n"
      ],
      "execution_count": null,
      "outputs": []
    },
    {
      "cell_type": "code",
      "metadata": {
        "colab": {
          "base_uri": "https://localhost:8080/"
        },
        "id": "qJHbbqliMpXW",
        "outputId": "7929f387-2442-4ab3-b5b6-84148501259c"
      },
      "source": [
        "s1"
      ],
      "execution_count": null,
      "outputs": [
        {
          "output_type": "execute_result",
          "data": {
            "text/plain": [
              "{2.6, 5, 6, 7, 7.6, 'h'}"
            ]
          },
          "metadata": {},
          "execution_count": 7
        }
      ]
    },
    {
      "cell_type": "code",
      "metadata": {
        "colab": {
          "base_uri": "https://localhost:8080/"
        },
        "id": "WspzMYbrOgj7",
        "outputId": "845ae7eb-342f-473c-fb5d-ae9ab0d316cd"
      },
      "source": [
        "s2"
      ],
      "execution_count": null,
      "outputs": [
        {
          "output_type": "execute_result",
          "data": {
            "text/plain": [
              "{0, 5, 7, 8, 9, 10}"
            ]
          },
          "metadata": {},
          "execution_count": 9
        }
      ]
    },
    {
      "cell_type": "code",
      "metadata": {
        "colab": {
          "base_uri": "https://localhost:8080/"
        },
        "id": "c1YC0BeHOrwI",
        "outputId": "70702e11-05f0-496e-e246-3c56e760829f"
      },
      "source": [
        "for i in s2:\n",
        "  print(i)"
      ],
      "execution_count": null,
      "outputs": [
        {
          "output_type": "stream",
          "name": "stdout",
          "text": [
            "0\n",
            "5\n",
            "7\n",
            "8\n",
            "9\n",
            "10\n"
          ]
        }
      ]
    },
    {
      "cell_type": "code",
      "metadata": {
        "id": "MDnXPdvvOxcA"
      },
      "source": [
        "s1.add(100)"
      ],
      "execution_count": null,
      "outputs": []
    },
    {
      "cell_type": "code",
      "metadata": {
        "colab": {
          "base_uri": "https://localhost:8080/"
        },
        "id": "EOWr3tflO6eu",
        "outputId": "602cf1c1-91bc-4751-ab30-207f7a5f00af"
      },
      "source": [
        "s1"
      ],
      "execution_count": null,
      "outputs": [
        {
          "output_type": "execute_result",
          "data": {
            "text/plain": [
              "{100, 2.6, 5, 6, 7, 7.6, 'h'}"
            ]
          },
          "metadata": {},
          "execution_count": 12
        }
      ]
    },
    {
      "cell_type": "code",
      "metadata": {
        "id": "ijcsdSmRO7Ax"
      },
      "source": [
        "s1.add(0)"
      ],
      "execution_count": null,
      "outputs": []
    },
    {
      "cell_type": "code",
      "metadata": {
        "colab": {
          "base_uri": "https://localhost:8080/"
        },
        "id": "1YlSX1ibO_h9",
        "outputId": "3f70eda1-b4e9-4c93-b81f-555638d13fa9"
      },
      "source": [
        "s1"
      ],
      "execution_count": null,
      "outputs": [
        {
          "output_type": "execute_result",
          "data": {
            "text/plain": [
              "{0, 100, 2.6, 5, 6, 7, 7.6, 'h'}"
            ]
          },
          "metadata": {},
          "execution_count": 16
        }
      ]
    },
    {
      "cell_type": "code",
      "metadata": {
        "id": "5qk_kj2sPAqX"
      },
      "source": [
        "s2.clear()"
      ],
      "execution_count": null,
      "outputs": []
    },
    {
      "cell_type": "code",
      "metadata": {
        "colab": {
          "base_uri": "https://localhost:8080/"
        },
        "id": "dIa9Ea0EPIWO",
        "outputId": "9e91e1a2-b4b5-4e95-fffc-aa9d27cce901"
      },
      "source": [
        "s2"
      ],
      "execution_count": null,
      "outputs": [
        {
          "output_type": "execute_result",
          "data": {
            "text/plain": [
              "set()"
            ]
          },
          "metadata": {},
          "execution_count": 18
        }
      ]
    },
    {
      "cell_type": "code",
      "metadata": {
        "id": "ilPajqrOPJdi"
      },
      "source": [
        "d = {}\n"
      ],
      "execution_count": null,
      "outputs": []
    },
    {
      "cell_type": "code",
      "metadata": {
        "colab": {
          "base_uri": "https://localhost:8080/"
        },
        "id": "uoQ6a-qcPNUf",
        "outputId": "546e56c6-fb3e-4b97-928f-afe5b01604b0"
      },
      "source": [
        "type(d)"
      ],
      "execution_count": null,
      "outputs": [
        {
          "output_type": "execute_result",
          "data": {
            "text/plain": [
              "dict"
            ]
          },
          "metadata": {},
          "execution_count": 24
        }
      ]
    },
    {
      "cell_type": "code",
      "metadata": {
        "colab": {
          "base_uri": "https://localhost:8080/"
        },
        "id": "ypbjJz_8PVwr",
        "outputId": "09a95abf-b8f1-4ad3-960e-de8a7ebdcf45"
      },
      "source": [
        "s2"
      ],
      "execution_count": null,
      "outputs": [
        {
          "output_type": "execute_result",
          "data": {
            "text/plain": [
              "set()"
            ]
          },
          "metadata": {},
          "execution_count": 25
        }
      ]
    },
    {
      "cell_type": "code",
      "metadata": {
        "id": "6Yg8o5nHPr9u"
      },
      "source": [
        "s1.remove(7)"
      ],
      "execution_count": null,
      "outputs": []
    },
    {
      "cell_type": "code",
      "metadata": {
        "colab": {
          "base_uri": "https://localhost:8080/"
        },
        "id": "iOtULms7PuHS",
        "outputId": "6c5c3aea-3245-442c-df17-9886f38d081a"
      },
      "source": [
        "s1"
      ],
      "execution_count": null,
      "outputs": [
        {
          "output_type": "execute_result",
          "data": {
            "text/plain": [
              "{0, 100, 2.6, 5, 6, 7.6, 'h'}"
            ]
          },
          "metadata": {},
          "execution_count": 28
        }
      ]
    },
    {
      "cell_type": "code",
      "metadata": {
        "colab": {
          "base_uri": "https://localhost:8080/",
          "height": 163
        },
        "id": "ej7SVnmlP-mG",
        "outputId": "2d9f223e-90a7-44f8-f572-1f7d38e4209d"
      },
      "source": [
        "s1.remove(500)"
      ],
      "execution_count": null,
      "outputs": [
        {
          "output_type": "error",
          "ename": "KeyError",
          "evalue": "ignored",
          "traceback": [
            "\u001b[0;31m---------------------------------------------------------------------------\u001b[0m",
            "\u001b[0;31mKeyError\u001b[0m                                  Traceback (most recent call last)",
            "\u001b[0;32m<ipython-input-29-9706cc99b63e>\u001b[0m in \u001b[0;36m<module>\u001b[0;34m()\u001b[0m\n\u001b[0;32m----> 1\u001b[0;31m \u001b[0ms1\u001b[0m\u001b[0;34m.\u001b[0m\u001b[0mremove\u001b[0m\u001b[0;34m(\u001b[0m\u001b[0;36m500\u001b[0m\u001b[0;34m)\u001b[0m\u001b[0;34m\u001b[0m\u001b[0;34m\u001b[0m\u001b[0m\n\u001b[0m",
            "\u001b[0;31mKeyError\u001b[0m: 500"
          ]
        }
      ]
    },
    {
      "cell_type": "code",
      "metadata": {
        "id": "9ly5aKQxPy3S"
      },
      "source": [
        "s1.discard(500)"
      ],
      "execution_count": null,
      "outputs": []
    },
    {
      "cell_type": "code",
      "metadata": {
        "colab": {
          "base_uri": "https://localhost:8080/"
        },
        "id": "bn0r6JTgQFSM",
        "outputId": "496abd97-798f-4101-8d22-e2ab7a982ee5"
      },
      "source": [
        "s1.pop()"
      ],
      "execution_count": null,
      "outputs": [
        {
          "output_type": "execute_result",
          "data": {
            "text/plain": [
              "0"
            ]
          },
          "metadata": {},
          "execution_count": 31
        }
      ]
    },
    {
      "cell_type": "code",
      "metadata": {
        "colab": {
          "base_uri": "https://localhost:8080/"
        },
        "id": "YnW-xKptQLhp",
        "outputId": "7cc95ced-9c12-4409-b14d-3daa15f61ad3"
      },
      "source": [
        "s1.pop() #Remove the random element"
      ],
      "execution_count": null,
      "outputs": [
        {
          "output_type": "execute_result",
          "data": {
            "text/plain": [
              "2.6"
            ]
          },
          "metadata": {},
          "execution_count": 32
        }
      ]
    },
    {
      "cell_type": "code",
      "metadata": {
        "colab": {
          "base_uri": "https://localhost:8080/"
        },
        "id": "4vozmmp0QOLO",
        "outputId": "686c2a02-f909-491a-93d8-d0b31cf6ce44"
      },
      "source": [
        "s1"
      ],
      "execution_count": null,
      "outputs": [
        {
          "output_type": "execute_result",
          "data": {
            "text/plain": [
              "{100, 5, 6, 7.6, 'h'}"
            ]
          },
          "metadata": {},
          "execution_count": 33
        }
      ]
    },
    {
      "cell_type": "code",
      "metadata": {
        "id": "pHA3s_5_QQLr"
      },
      "source": [
        "s3 = {1,2,3}\n",
        "s4 = {3,4,5}"
      ],
      "execution_count": null,
      "outputs": []
    },
    {
      "cell_type": "code",
      "metadata": {
        "colab": {
          "base_uri": "https://localhost:8080/"
        },
        "id": "k-7cV7IPQmng",
        "outputId": "f9c998d3-705f-484b-d0fd-bf4480ce8aee"
      },
      "source": [
        "s3.union(s4)"
      ],
      "execution_count": null,
      "outputs": [
        {
          "output_type": "execute_result",
          "data": {
            "text/plain": [
              "{1, 2, 3, 4, 5}"
            ]
          },
          "metadata": {},
          "execution_count": 35
        }
      ]
    },
    {
      "cell_type": "code",
      "metadata": {
        "colab": {
          "base_uri": "https://localhost:8080/"
        },
        "id": "Qu4KXXEUQtYw",
        "outputId": "de87f5a3-9546-43d8-ec1e-d163db6faaf1"
      },
      "source": [
        "s3.intersection(s4)"
      ],
      "execution_count": null,
      "outputs": [
        {
          "output_type": "execute_result",
          "data": {
            "text/plain": [
              "{3}"
            ]
          },
          "metadata": {},
          "execution_count": 36
        }
      ]
    },
    {
      "cell_type": "code",
      "metadata": {
        "colab": {
          "base_uri": "https://localhost:8080/"
        },
        "id": "_J5X6t3YQzc_",
        "outputId": "5a6ef337-e269-45fe-d6bf-cf00d2d58f64"
      },
      "source": [
        "s3.difference(s4)"
      ],
      "execution_count": null,
      "outputs": [
        {
          "output_type": "execute_result",
          "data": {
            "text/plain": [
              "{1, 2}"
            ]
          },
          "metadata": {},
          "execution_count": 37
        }
      ]
    },
    {
      "cell_type": "code",
      "metadata": {
        "colab": {
          "base_uri": "https://localhost:8080/"
        },
        "id": "ZhpHPxegRCzE",
        "outputId": "2b3e8677-11a0-4f38-b08b-5ce3f125e694"
      },
      "source": [
        "s4.difference(s3)"
      ],
      "execution_count": null,
      "outputs": [
        {
          "output_type": "execute_result",
          "data": {
            "text/plain": [
              "{4, 5}"
            ]
          },
          "metadata": {},
          "execution_count": 38
        }
      ]
    },
    {
      "cell_type": "code",
      "metadata": {
        "id": "ebhC9_jaRF9G"
      },
      "source": [
        "s3.difference_update(s4)"
      ],
      "execution_count": null,
      "outputs": []
    },
    {
      "cell_type": "code",
      "metadata": {
        "colab": {
          "base_uri": "https://localhost:8080/"
        },
        "id": "wSCZF0HsRPa3",
        "outputId": "a0bb19b3-f072-44fd-d896-fb0ac9e3e989"
      },
      "source": [
        "s3"
      ],
      "execution_count": null,
      "outputs": [
        {
          "output_type": "execute_result",
          "data": {
            "text/plain": [
              "{1, 2}"
            ]
          },
          "metadata": {},
          "execution_count": 40
        }
      ]
    },
    {
      "cell_type": "code",
      "metadata": {
        "id": "g2OqaEiNRQRh"
      },
      "source": [
        "s1.remove(\"h\")"
      ],
      "execution_count": null,
      "outputs": []
    },
    {
      "cell_type": "code",
      "metadata": {
        "colab": {
          "base_uri": "https://localhost:8080/"
        },
        "id": "UPtq231pRVeo",
        "outputId": "f5b65d49-391b-4460-a2ab-faac4f7f91bd"
      },
      "source": [
        "min(s1)"
      ],
      "execution_count": null,
      "outputs": [
        {
          "output_type": "execute_result",
          "data": {
            "text/plain": [
              "5"
            ]
          },
          "metadata": {},
          "execution_count": 46
        }
      ]
    },
    {
      "cell_type": "code",
      "metadata": {
        "colab": {
          "base_uri": "https://localhost:8080/"
        },
        "id": "j1IlPJAwRcE_",
        "outputId": "4aa1f97f-cd35-4cd5-ae86-2f7bb7225494"
      },
      "source": [
        "max(s1)"
      ],
      "execution_count": null,
      "outputs": [
        {
          "output_type": "execute_result",
          "data": {
            "text/plain": [
              "100"
            ]
          },
          "metadata": {},
          "execution_count": 47
        }
      ]
    },
    {
      "cell_type": "code",
      "metadata": {
        "id": "gxP7S-dhRjYn"
      },
      "source": [
        "m = [5,6,7,78,8,6,5,67,8,9]"
      ],
      "execution_count": null,
      "outputs": []
    },
    {
      "cell_type": "code",
      "metadata": {
        "colab": {
          "base_uri": "https://localhost:8080/"
        },
        "id": "dOwD8J98RsQR",
        "outputId": "9b8d7dbb-2c0a-4700-ac05-6c1418a94f6d"
      },
      "source": [
        "set(m)"
      ],
      "execution_count": null,
      "outputs": [
        {
          "output_type": "execute_result",
          "data": {
            "text/plain": [
              "{5, 6, 7, 8, 9, 67, 78}"
            ]
          },
          "metadata": {},
          "execution_count": 49
        }
      ]
    },
    {
      "cell_type": "markdown",
      "metadata": {
        "id": "286hqz02RxVO"
      },
      "source": [
        "Forzenset: Immutable set"
      ]
    },
    {
      "cell_type": "code",
      "metadata": {
        "colab": {
          "base_uri": "https://localhost:8080/"
        },
        "id": "TG01vRw-RtYs",
        "outputId": "1fcfea99-88c1-464d-de0c-455b72ff376f"
      },
      "source": [
        "s1"
      ],
      "execution_count": null,
      "outputs": [
        {
          "output_type": "execute_result",
          "data": {
            "text/plain": [
              "{5, 6, 7.6, 100}"
            ]
          },
          "metadata": {},
          "execution_count": 50
        }
      ]
    },
    {
      "cell_type": "code",
      "metadata": {
        "id": "AykhdfUvR7xT"
      },
      "source": [
        "s5 = frozenset({5,6,7.8,9,5,4,8})"
      ],
      "execution_count": null,
      "outputs": []
    },
    {
      "cell_type": "code",
      "metadata": {
        "colab": {
          "base_uri": "https://localhost:8080/"
        },
        "id": "dxjltmNySEWF",
        "outputId": "d48c9d47-d6c2-4a02-e231-dc79d087ad97"
      },
      "source": [
        "type(s5)"
      ],
      "execution_count": null,
      "outputs": [
        {
          "output_type": "execute_result",
          "data": {
            "text/plain": [
              "frozenset"
            ]
          },
          "metadata": {},
          "execution_count": 53
        }
      ]
    },
    {
      "cell_type": "code",
      "metadata": {
        "id": "xnvwtWwBSLpY"
      },
      "source": [
        "s5.remove(5)"
      ],
      "execution_count": null,
      "outputs": []
    },
    {
      "cell_type": "code",
      "metadata": {
        "colab": {
          "base_uri": "https://localhost:8080/"
        },
        "id": "WHB_ZHPsSY9b",
        "outputId": "b9b32efb-5fb3-467f-fb12-f4e2b574ec56"
      },
      "source": [
        "s1.union(s5)"
      ],
      "execution_count": null,
      "outputs": [
        {
          "output_type": "execute_result",
          "data": {
            "text/plain": [
              "{4, 5, 6, 7.6, 7.8, 8, 9, 100}"
            ]
          },
          "metadata": {},
          "execution_count": 55
        }
      ]
    },
    {
      "cell_type": "code",
      "metadata": {
        "colab": {
          "base_uri": "https://localhost:8080/"
        },
        "id": "bImYF4n-SsGp",
        "outputId": "783b69ad-27e7-46c0-abd6-0ff6ad503291"
      },
      "source": [
        "s1.intersection(s5)"
      ],
      "execution_count": null,
      "outputs": [
        {
          "output_type": "execute_result",
          "data": {
            "text/plain": [
              "{5, 6}"
            ]
          },
          "metadata": {},
          "execution_count": 56
        }
      ]
    },
    {
      "cell_type": "code",
      "metadata": {
        "id": "Xb2qvRYySzdg"
      },
      "source": [
        "s1.difference_update(s5)"
      ],
      "execution_count": null,
      "outputs": []
    },
    {
      "cell_type": "code",
      "metadata": {
        "colab": {
          "base_uri": "https://localhost:8080/"
        },
        "id": "8XzmmMMPTIXn",
        "outputId": "fd041a72-b9de-4ee8-c865-037bd30f2ae9"
      },
      "source": [
        "s1"
      ],
      "execution_count": null,
      "outputs": [
        {
          "output_type": "execute_result",
          "data": {
            "text/plain": [
              "{7.6, 100}"
            ]
          },
          "metadata": {},
          "execution_count": 58
        }
      ]
    },
    {
      "cell_type": "code",
      "metadata": {
        "id": "yVPwYC9lTQqK"
      },
      "source": [
        "s5.difference_update(s1)"
      ],
      "execution_count": null,
      "outputs": []
    },
    {
      "cell_type": "markdown",
      "metadata": {
        "id": "vp5CZ3dcUC6g"
      },
      "source": [
        "## Set Comprehension"
      ]
    },
    {
      "cell_type": "code",
      "metadata": {
        "id": "ihYpzUQaUBsG"
      },
      "source": [
        "s6 = {v for v in range(1,11)}"
      ],
      "execution_count": null,
      "outputs": []
    },
    {
      "cell_type": "code",
      "metadata": {
        "colab": {
          "base_uri": "https://localhost:8080/"
        },
        "id": "IQnrKd0LTWgF",
        "outputId": "7c5300f5-8865-46ef-e59c-e6bdae6f9767"
      },
      "source": [
        "s6"
      ],
      "execution_count": null,
      "outputs": [
        {
          "output_type": "execute_result",
          "data": {
            "text/plain": [
              "{1, 2, 3, 4, 5, 6, 7, 8, 9, 10}"
            ]
          },
          "metadata": {},
          "execution_count": 61
        }
      ]
    },
    {
      "cell_type": "code",
      "metadata": {
        "id": "RLaTlkfPUc4C"
      },
      "source": [
        "s7 = {6,7,8,9,2}\n",
        "s8 = {4,2,7,9}"
      ],
      "execution_count": null,
      "outputs": []
    },
    {
      "cell_type": "code",
      "metadata": {
        "colab": {
          "base_uri": "https://localhost:8080/"
        },
        "id": "Hih6CX_AcgZ3",
        "outputId": "f1bf70bb-ed44-4283-da8a-5b9087caaa94"
      },
      "source": [
        "s7.union(s8)"
      ],
      "execution_count": null,
      "outputs": [
        {
          "output_type": "execute_result",
          "data": {
            "text/plain": [
              "{2, 4, 6, 7, 8, 9}"
            ]
          },
          "metadata": {},
          "execution_count": 10
        }
      ]
    },
    {
      "cell_type": "code",
      "metadata": {
        "colab": {
          "base_uri": "https://localhost:8080/"
        },
        "id": "nAtSAlCWcoRb",
        "outputId": "42f33372-fc7d-4a3c-a78b-58c96535cebc"
      },
      "source": [
        "s8.intersection(s7)"
      ],
      "execution_count": null,
      "outputs": [
        {
          "output_type": "execute_result",
          "data": {
            "text/plain": [
              "{2, 7, 9}"
            ]
          },
          "metadata": {},
          "execution_count": 11
        }
      ]
    },
    {
      "cell_type": "code",
      "metadata": {
        "colab": {
          "base_uri": "https://localhost:8080/"
        },
        "id": "wyTxFxhrczDC",
        "outputId": "c5c949d3-7b7d-4bf6-bd95-ef0546ee0f4d"
      },
      "source": [
        "s7.difference(s8)"
      ],
      "execution_count": null,
      "outputs": [
        {
          "output_type": "execute_result",
          "data": {
            "text/plain": [
              "{6, 8}"
            ]
          },
          "metadata": {},
          "execution_count": 12
        }
      ]
    },
    {
      "cell_type": "markdown",
      "metadata": {
        "id": "AwPce9OEmoXp"
      },
      "source": [
        ""
      ]
    },
    {
      "cell_type": "markdown",
      "metadata": {
        "id": "opgWviJbmo-n"
      },
      "source": [
        "STack and Queue"
      ]
    },
    {
      "cell_type": "code",
      "metadata": {
        "colab": {
          "base_uri": "https://localhost:8080/"
        },
        "id": "J8W5qxcnc8Qe",
        "outputId": "e6b726a1-6ac3-47be-9717-9bcd8c02ba06"
      },
      "source": [
        "#Stack opeartion\n",
        "st = [\"A\",\"B\",\"C\",\"D\"]\n",
        "\n",
        "print(\"Before Adding the element: \",st)\n",
        "\n",
        "st.append(\"E\")\n",
        "st.append(\"F\")\n",
        "\n",
        "print(\"After Adding the element: \",st)"
      ],
      "execution_count": null,
      "outputs": [
        {
          "output_type": "stream",
          "name": "stdout",
          "text": [
            "Before Adding the element:  ['A', 'B', 'C', 'D']\n",
            "After Adding the element:  ['A', 'B', 'C', 'D', 'E', 'F']\n"
          ]
        }
      ]
    },
    {
      "cell_type": "code",
      "metadata": {
        "colab": {
          "base_uri": "https://localhost:8080/"
        },
        "id": "qQ66ntsRnMfp",
        "outputId": "811c66ed-b209-4374-e7c4-db421e2befee"
      },
      "source": [
        "st.pop()\n",
        "st.pop()\n",
        "print(\"After stack operation: \",st)"
      ],
      "execution_count": null,
      "outputs": [
        {
          "output_type": "stream",
          "name": "stdout",
          "text": [
            "After stack operation:  ['A', 'B', 'C', 'D']\n"
          ]
        }
      ]
    },
    {
      "cell_type": "code",
      "metadata": {
        "colab": {
          "base_uri": "https://localhost:8080/"
        },
        "id": "NuaCyhmdnZgA",
        "outputId": "8fd8a404-bd10-407d-84dc-c07d7b9958bb"
      },
      "source": [
        "#Queue Operation\n",
        "\n",
        "st = [\"A\",\"B\",\"C\",\"D\"]\n",
        "\n",
        "print(\"Before Adding the element: \",st)\n",
        "\n",
        "st.append(\"E\")\n",
        "st.append(\"F\")\n",
        "\n",
        "print(\"After Adding the element: \",st)"
      ],
      "execution_count": null,
      "outputs": [
        {
          "output_type": "stream",
          "name": "stdout",
          "text": [
            "Before Adding the element:  ['A', 'B', 'C', 'D']\n",
            "After Adding the element:  ['A', 'B', 'C', 'D', 'E', 'F']\n"
          ]
        }
      ]
    },
    {
      "cell_type": "code",
      "metadata": {
        "id": "I8BNRz1Zn89e"
      },
      "source": [
        "from collections import deque\n",
        "\n",
        "dq = deque(st)"
      ],
      "execution_count": null,
      "outputs": []
    },
    {
      "cell_type": "code",
      "metadata": {
        "colab": {
          "base_uri": "https://localhost:8080/"
        },
        "id": "PVoLMBsToi1t",
        "outputId": "c254037b-d778-407d-f375-ddbdb7969aa7"
      },
      "source": [
        "  dq.popleft()\n",
        "  dq.popleft()\n",
        "\n",
        "  print(\"After Deque Operation: \",list(dq))"
      ],
      "execution_count": null,
      "outputs": [
        {
          "output_type": "stream",
          "name": "stdout",
          "text": [
            "After Deque Operation:  ['C', 'D', 'E', 'F']\n"
          ]
        }
      ]
    },
    {
      "cell_type": "code",
      "metadata": {
        "id": "lKOwlzlOoqlb"
      },
      "source": [
        ""
      ],
      "execution_count": null,
      "outputs": []
    }
  ]
}